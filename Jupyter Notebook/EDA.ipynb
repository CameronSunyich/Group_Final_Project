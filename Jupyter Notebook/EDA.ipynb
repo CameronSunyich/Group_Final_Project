{
 "cells": [
  {
   "cell_type": "code",
   "execution_count": 1,
   "id": "7a22a8b1",
   "metadata": {},
   "outputs": [],
   "source": [
    "import pandas as pd\n",
    "import numpy as np\n",
    "\n",
    "from sqlalchemy import create_engine\n",
    "import psycopg2\n",
    "\n",
    "import matplotlib.pyplot as plt"
   ]
  },
  {
   "cell_type": "code",
   "execution_count": 2,
   "id": "8e3ae345",
   "metadata": {},
   "outputs": [
    {
     "data": {
      "text/html": [
       "<div>\n",
       "<style scoped>\n",
       "    .dataframe tbody tr th:only-of-type {\n",
       "        vertical-align: middle;\n",
       "    }\n",
       "\n",
       "    .dataframe tbody tr th {\n",
       "        vertical-align: top;\n",
       "    }\n",
       "\n",
       "    .dataframe thead th {\n",
       "        text-align: right;\n",
       "    }\n",
       "</style>\n",
       "<table border=\"1\" class=\"dataframe\">\n",
       "  <thead>\n",
       "    <tr style=\"text-align: right;\">\n",
       "      <th></th>\n",
       "      <th>year</th>\n",
       "      <th>acousticness</th>\n",
       "      <th>artists</th>\n",
       "      <th>danceability</th>\n",
       "      <th>duration_ms</th>\n",
       "      <th>energy</th>\n",
       "      <th>explicit</th>\n",
       "      <th>instrumentalness</th>\n",
       "      <th>loudness</th>\n",
       "      <th>name</th>\n",
       "      <th>popularity</th>\n",
       "      <th>tempo</th>\n",
       "    </tr>\n",
       "    <tr>\n",
       "      <th>orig_index</th>\n",
       "      <th></th>\n",
       "      <th></th>\n",
       "      <th></th>\n",
       "      <th></th>\n",
       "      <th></th>\n",
       "      <th></th>\n",
       "      <th></th>\n",
       "      <th></th>\n",
       "      <th></th>\n",
       "      <th></th>\n",
       "      <th></th>\n",
       "      <th></th>\n",
       "    </tr>\n",
       "  </thead>\n",
       "  <tbody>\n",
       "    <tr>\n",
       "      <th>7606</th>\n",
       "      <td>1960</td>\n",
       "      <td>0.547</td>\n",
       "      <td>['Etta James']</td>\n",
       "      <td>0.274</td>\n",
       "      <td>179693</td>\n",
       "      <td>0.348</td>\n",
       "      <td>0</td>\n",
       "      <td>0.013300</td>\n",
       "      <td>-8.631</td>\n",
       "      <td>At Last</td>\n",
       "      <td>76</td>\n",
       "      <td>87.430</td>\n",
       "    </tr>\n",
       "    <tr>\n",
       "      <th>7607</th>\n",
       "      <td>1960</td>\n",
       "      <td>0.829</td>\n",
       "      <td>['Etta James']</td>\n",
       "      <td>0.421</td>\n",
       "      <td>196133</td>\n",
       "      <td>0.285</td>\n",
       "      <td>0</td>\n",
       "      <td>0.000002</td>\n",
       "      <td>-9.430</td>\n",
       "      <td>A Sunday Kind Of Love</td>\n",
       "      <td>70</td>\n",
       "      <td>85.861</td>\n",
       "    </tr>\n",
       "    <tr>\n",
       "      <th>7608</th>\n",
       "      <td>1960</td>\n",
       "      <td>0.764</td>\n",
       "      <td>['Ella Fitzgerald']</td>\n",
       "      <td>0.508</td>\n",
       "      <td>175987</td>\n",
       "      <td>0.287</td>\n",
       "      <td>0</td>\n",
       "      <td>0.000000</td>\n",
       "      <td>-12.472</td>\n",
       "      <td>Sleigh Ride</td>\n",
       "      <td>69</td>\n",
       "      <td>154.759</td>\n",
       "    </tr>\n",
       "    <tr>\n",
       "      <th>7609</th>\n",
       "      <td>1960</td>\n",
       "      <td>0.733</td>\n",
       "      <td>['Ella Fitzgerald']</td>\n",
       "      <td>0.579</td>\n",
       "      <td>131733</td>\n",
       "      <td>0.502</td>\n",
       "      <td>0</td>\n",
       "      <td>0.000000</td>\n",
       "      <td>-7.570</td>\n",
       "      <td>Frosty The Snowman</td>\n",
       "      <td>69</td>\n",
       "      <td>76.816</td>\n",
       "    </tr>\n",
       "    <tr>\n",
       "      <th>7610</th>\n",
       "      <td>1960</td>\n",
       "      <td>0.699</td>\n",
       "      <td>['Neil Sedaka']</td>\n",
       "      <td>0.743</td>\n",
       "      <td>139200</td>\n",
       "      <td>0.799</td>\n",
       "      <td>0</td>\n",
       "      <td>0.000000</td>\n",
       "      <td>-5.466</td>\n",
       "      <td>Breaking Up Is Hard to Do</td>\n",
       "      <td>62</td>\n",
       "      <td>116.112</td>\n",
       "    </tr>\n",
       "  </tbody>\n",
       "</table>\n",
       "</div>"
      ],
      "text/plain": [
       "            year  acousticness              artists  danceability  \\\n",
       "orig_index                                                          \n",
       "7606        1960         0.547       ['Etta James']         0.274   \n",
       "7607        1960         0.829       ['Etta James']         0.421   \n",
       "7608        1960         0.764  ['Ella Fitzgerald']         0.508   \n",
       "7609        1960         0.733  ['Ella Fitzgerald']         0.579   \n",
       "7610        1960         0.699      ['Neil Sedaka']         0.743   \n",
       "\n",
       "            duration_ms  energy  explicit  instrumentalness  loudness  \\\n",
       "orig_index                                                              \n",
       "7606             179693   0.348         0          0.013300    -8.631   \n",
       "7607             196133   0.285         0          0.000002    -9.430   \n",
       "7608             175987   0.287         0          0.000000   -12.472   \n",
       "7609             131733   0.502         0          0.000000    -7.570   \n",
       "7610             139200   0.799         0          0.000000    -5.466   \n",
       "\n",
       "                                 name  popularity    tempo  \n",
       "orig_index                                                  \n",
       "7606                          At Last          76   87.430  \n",
       "7607            A Sunday Kind Of Love          70   85.861  \n",
       "7608                      Sleigh Ride          69  154.759  \n",
       "7609               Frosty The Snowman          69   76.816  \n",
       "7610        Breaking Up Is Hard to Do          62  116.112  "
      ]
     },
     "execution_count": 2,
     "metadata": {},
     "output_type": "execute_result"
    }
   ],
   "source": [
    "music_df = pd.read_csv('cleaned_music_data.csv')\n",
    "music_df.rename(columns={'Unnamed: 0':'orig_index'},inplace=True)\n",
    "music_df = music_df.set_index('orig_index')\n",
    "music_df.head()"
   ]
  },
  {
   "cell_type": "code",
   "execution_count": 3,
   "id": "5e00864a",
   "metadata": {},
   "outputs": [
    {
     "data": {
      "text/plain": [
       "41.7907513477089"
      ]
     },
     "execution_count": 3,
     "metadata": {},
     "output_type": "execute_result"
    }
   ],
   "source": [
    "music_df['popularity'].mean()"
   ]
  },
  {
   "cell_type": "code",
   "execution_count": 4,
   "id": "5c85d2f5",
   "metadata": {},
   "outputs": [
    {
     "data": {
      "text/plain": [
       "94"
      ]
     },
     "execution_count": 4,
     "metadata": {},
     "output_type": "execute_result"
    }
   ],
   "source": [
    "music_df['popularity'].max()"
   ]
  },
  {
   "cell_type": "code",
   "execution_count": 5,
   "id": "2ca795fd",
   "metadata": {},
   "outputs": [
    {
     "data": {
      "text/plain": [
       "15.099922086111443"
      ]
     },
     "execution_count": 5,
     "metadata": {},
     "output_type": "execute_result"
    }
   ],
   "source": [
    "music_df['popularity'].std()"
   ]
  },
  {
   "cell_type": "code",
   "execution_count": 6,
   "id": "01a604cb",
   "metadata": {},
   "outputs": [
    {
     "data": {
      "text/html": [
       "<div>\n",
       "<style scoped>\n",
       "    .dataframe tbody tr th:only-of-type {\n",
       "        vertical-align: middle;\n",
       "    }\n",
       "\n",
       "    .dataframe tbody tr th {\n",
       "        vertical-align: top;\n",
       "    }\n",
       "\n",
       "    .dataframe thead th {\n",
       "        text-align: right;\n",
       "    }\n",
       "</style>\n",
       "<table border=\"1\" class=\"dataframe\">\n",
       "  <thead>\n",
       "    <tr style=\"text-align: right;\">\n",
       "      <th></th>\n",
       "      <th>Unnamed: 0</th>\n",
       "      <th>year</th>\n",
       "      <th>acousticness</th>\n",
       "      <th>danceability</th>\n",
       "      <th>duration_ms</th>\n",
       "      <th>energy</th>\n",
       "      <th>explicit</th>\n",
       "      <th>instrumentalness</th>\n",
       "      <th>loudness</th>\n",
       "      <th>popularity</th>\n",
       "      <th>tempo</th>\n",
       "      <th>Class</th>\n",
       "    </tr>\n",
       "  </thead>\n",
       "  <tbody>\n",
       "    <tr>\n",
       "      <th>0</th>\n",
       "      <td>7606</td>\n",
       "      <td>1960</td>\n",
       "      <td>0.547000</td>\n",
       "      <td>0.274</td>\n",
       "      <td>179693</td>\n",
       "      <td>0.348</td>\n",
       "      <td>0</td>\n",
       "      <td>0.013300</td>\n",
       "      <td>-8.631</td>\n",
       "      <td>76</td>\n",
       "      <td>87.430</td>\n",
       "      <td>4</td>\n",
       "    </tr>\n",
       "    <tr>\n",
       "      <th>1</th>\n",
       "      <td>7607</td>\n",
       "      <td>1960</td>\n",
       "      <td>0.829000</td>\n",
       "      <td>0.421</td>\n",
       "      <td>196133</td>\n",
       "      <td>0.285</td>\n",
       "      <td>0</td>\n",
       "      <td>0.000002</td>\n",
       "      <td>-9.430</td>\n",
       "      <td>70</td>\n",
       "      <td>85.861</td>\n",
       "      <td>4</td>\n",
       "    </tr>\n",
       "    <tr>\n",
       "      <th>2</th>\n",
       "      <td>7608</td>\n",
       "      <td>1960</td>\n",
       "      <td>0.764000</td>\n",
       "      <td>0.508</td>\n",
       "      <td>175987</td>\n",
       "      <td>0.287</td>\n",
       "      <td>0</td>\n",
       "      <td>0.000000</td>\n",
       "      <td>-12.472</td>\n",
       "      <td>69</td>\n",
       "      <td>154.759</td>\n",
       "      <td>4</td>\n",
       "    </tr>\n",
       "    <tr>\n",
       "      <th>3</th>\n",
       "      <td>7609</td>\n",
       "      <td>1960</td>\n",
       "      <td>0.733000</td>\n",
       "      <td>0.579</td>\n",
       "      <td>131733</td>\n",
       "      <td>0.502</td>\n",
       "      <td>0</td>\n",
       "      <td>0.000000</td>\n",
       "      <td>-7.570</td>\n",
       "      <td>69</td>\n",
       "      <td>76.816</td>\n",
       "      <td>4</td>\n",
       "    </tr>\n",
       "    <tr>\n",
       "      <th>4</th>\n",
       "      <td>7610</td>\n",
       "      <td>1960</td>\n",
       "      <td>0.699000</td>\n",
       "      <td>0.743</td>\n",
       "      <td>139200</td>\n",
       "      <td>0.799</td>\n",
       "      <td>0</td>\n",
       "      <td>0.000000</td>\n",
       "      <td>-5.466</td>\n",
       "      <td>62</td>\n",
       "      <td>116.112</td>\n",
       "      <td>0</td>\n",
       "    </tr>\n",
       "    <tr>\n",
       "      <th>...</th>\n",
       "      <td>...</td>\n",
       "      <td>...</td>\n",
       "      <td>...</td>\n",
       "      <td>...</td>\n",
       "      <td>...</td>\n",
       "      <td>...</td>\n",
       "      <td>...</td>\n",
       "      <td>...</td>\n",
       "      <td>...</td>\n",
       "      <td>...</td>\n",
       "      <td>...</td>\n",
       "      <td>...</td>\n",
       "    </tr>\n",
       "    <tr>\n",
       "      <th>118715</th>\n",
       "      <td>170448</td>\n",
       "      <td>2019</td>\n",
       "      <td>0.226000</td>\n",
       "      <td>0.757</td>\n",
       "      <td>159547</td>\n",
       "      <td>0.688</td>\n",
       "      <td>0</td>\n",
       "      <td>0.000000</td>\n",
       "      <td>-4.546</td>\n",
       "      <td>71</td>\n",
       "      <td>155.994</td>\n",
       "      <td>0</td>\n",
       "    </tr>\n",
       "    <tr>\n",
       "      <th>118716</th>\n",
       "      <td>170449</td>\n",
       "      <td>2019</td>\n",
       "      <td>0.001210</td>\n",
       "      <td>0.449</td>\n",
       "      <td>247613</td>\n",
       "      <td>0.825</td>\n",
       "      <td>0</td>\n",
       "      <td>0.000000</td>\n",
       "      <td>-5.177</td>\n",
       "      <td>60</td>\n",
       "      <td>135.934</td>\n",
       "      <td>0</td>\n",
       "    </tr>\n",
       "    <tr>\n",
       "      <th>118717</th>\n",
       "      <td>170450</td>\n",
       "      <td>2019</td>\n",
       "      <td>0.016700</td>\n",
       "      <td>0.616</td>\n",
       "      <td>203555</td>\n",
       "      <td>0.469</td>\n",
       "      <td>0</td>\n",
       "      <td>0.000000</td>\n",
       "      <td>-7.380</td>\n",
       "      <td>63</td>\n",
       "      <td>135.035</td>\n",
       "      <td>0</td>\n",
       "    </tr>\n",
       "    <tr>\n",
       "      <th>118718</th>\n",
       "      <td>170451</td>\n",
       "      <td>2019</td>\n",
       "      <td>0.000755</td>\n",
       "      <td>0.766</td>\n",
       "      <td>196875</td>\n",
       "      <td>0.649</td>\n",
       "      <td>0</td>\n",
       "      <td>0.545000</td>\n",
       "      <td>-13.051</td>\n",
       "      <td>59</td>\n",
       "      <td>127.996</td>\n",
       "      <td>0</td>\n",
       "    </tr>\n",
       "    <tr>\n",
       "      <th>118719</th>\n",
       "      <td>170452</td>\n",
       "      <td>2019</td>\n",
       "      <td>0.233000</td>\n",
       "      <td>0.780</td>\n",
       "      <td>132115</td>\n",
       "      <td>0.453</td>\n",
       "      <td>1</td>\n",
       "      <td>0.000002</td>\n",
       "      <td>-9.926</td>\n",
       "      <td>58</td>\n",
       "      <td>155.984</td>\n",
       "      <td>3</td>\n",
       "    </tr>\n",
       "  </tbody>\n",
       "</table>\n",
       "<p>118720 rows × 12 columns</p>\n",
       "</div>"
      ],
      "text/plain": [
       "        Unnamed: 0  year  acousticness  danceability  duration_ms  energy  \\\n",
       "0             7606  1960      0.547000         0.274       179693   0.348   \n",
       "1             7607  1960      0.829000         0.421       196133   0.285   \n",
       "2             7608  1960      0.764000         0.508       175987   0.287   \n",
       "3             7609  1960      0.733000         0.579       131733   0.502   \n",
       "4             7610  1960      0.699000         0.743       139200   0.799   \n",
       "...            ...   ...           ...           ...          ...     ...   \n",
       "118715      170448  2019      0.226000         0.757       159547   0.688   \n",
       "118716      170449  2019      0.001210         0.449       247613   0.825   \n",
       "118717      170450  2019      0.016700         0.616       203555   0.469   \n",
       "118718      170451  2019      0.000755         0.766       196875   0.649   \n",
       "118719      170452  2019      0.233000         0.780       132115   0.453   \n",
       "\n",
       "        explicit  instrumentalness  loudness  popularity    tempo  Class  \n",
       "0              0          0.013300    -8.631          76   87.430      4  \n",
       "1              0          0.000002    -9.430          70   85.861      4  \n",
       "2              0          0.000000   -12.472          69  154.759      4  \n",
       "3              0          0.000000    -7.570          69   76.816      4  \n",
       "4              0          0.000000    -5.466          62  116.112      0  \n",
       "...          ...               ...       ...         ...      ...    ...  \n",
       "118715         0          0.000000    -4.546          71  155.994      0  \n",
       "118716         0          0.000000    -5.177          60  135.934      0  \n",
       "118717         0          0.000000    -7.380          63  135.035      0  \n",
       "118718         0          0.545000   -13.051          59  127.996      0  \n",
       "118719         1          0.000002    -9.926          58  155.984      3  \n",
       "\n",
       "[118720 rows x 12 columns]"
      ]
     },
     "execution_count": 6,
     "metadata": {},
     "output_type": "execute_result"
    }
   ],
   "source": [
    "clustered_df = pd.read_csv('clustered_music_data.csv')\n",
    "clustered_df"
   ]
  },
  {
   "cell_type": "code",
   "execution_count": 7,
   "id": "2dba0acd",
   "metadata": {},
   "outputs": [],
   "source": [
    "class_0 = clustered_df[(clustered_df['Class'] == 0)]"
   ]
  },
  {
   "cell_type": "code",
   "execution_count": 8,
   "id": "61b01470",
   "metadata": {},
   "outputs": [],
   "source": [
    "class_1 = clustered_df[(clustered_df['Class'] == 1)]"
   ]
  },
  {
   "cell_type": "code",
   "execution_count": 9,
   "id": "55b339f8",
   "metadata": {},
   "outputs": [],
   "source": [
    "class_2 = clustered_df[(clustered_df['Class'] == 2)]"
   ]
  },
  {
   "cell_type": "code",
   "execution_count": 10,
   "id": "05a9bb1d",
   "metadata": {},
   "outputs": [],
   "source": [
    "class_3 = clustered_df[(clustered_df['Class'] == 3)]"
   ]
  },
  {
   "cell_type": "code",
   "execution_count": 11,
   "id": "9cd108bf",
   "metadata": {},
   "outputs": [],
   "source": [
    "class_4 = clustered_df[(clustered_df['Class'] == 4)]"
   ]
  },
  {
   "cell_type": "code",
   "execution_count": 12,
   "id": "28534892",
   "metadata": {
    "scrolled": true
   },
   "outputs": [
    {
     "name": "stdout",
     "output_type": "stream",
     "text": [
      "Class 0 has 35567 songs and an average popularity of 54.295076897123735.\n"
     ]
    }
   ],
   "source": [
    "print(f\"Class 0 has {class_0.count()['popularity']} songs and an average popularity of {class_0['popularity'].mean()}.\")"
   ]
  },
  {
   "cell_type": "code",
   "execution_count": 13,
   "id": "5bc84eee",
   "metadata": {},
   "outputs": [
    {
     "name": "stdout",
     "output_type": "stream",
     "text": [
      "Class 1 has 9346 songs and an average popularity of 36.041194093729935.\n"
     ]
    }
   ],
   "source": [
    "print(f\"Class 1 has {class_1.count()['popularity']} songs and an average popularity of {class_1['popularity'].mean()}.\")"
   ]
  },
  {
   "cell_type": "code",
   "execution_count": 14,
   "id": "5a9c0318",
   "metadata": {},
   "outputs": [
    {
     "name": "stdout",
     "output_type": "stream",
     "text": [
      "Class 2 has 29593 songs and an average popularity of 34.08495252255601.\n"
     ]
    }
   ],
   "source": [
    "print(f\"Class 2 has {class_2.count()['popularity']} songs and an average popularity of {class_2['popularity'].mean()}.\")"
   ]
  },
  {
   "cell_type": "code",
   "execution_count": 15,
   "id": "3042cad0",
   "metadata": {},
   "outputs": [
    {
     "name": "stdout",
     "output_type": "stream",
     "text": [
      "Class 3 has 10783 songs and an average popularity of 53.60873597329129.\n"
     ]
    }
   ],
   "source": [
    "print(f\"Class 3 has {class_3.count()['popularity']} songs and an average popularity of {class_3['popularity'].mean()}.\")"
   ]
  },
  {
   "cell_type": "code",
   "execution_count": 16,
   "id": "f43aaabd",
   "metadata": {},
   "outputs": [
    {
     "name": "stdout",
     "output_type": "stream",
     "text": [
      "Class 4 has 33431 songs and an average popularity of 33.104154826358766.\n"
     ]
    }
   ],
   "source": [
    "print(f\"Class 4 has {class_4.count()['popularity']} songs and an average popularity of {class_4['popularity'].mean()}.\")"
   ]
  },
  {
   "cell_type": "code",
   "execution_count": 17,
   "id": "84a710bc",
   "metadata": {},
   "outputs": [
    {
     "data": {
      "text/plain": [
       "2003.7096465825064"
      ]
     },
     "execution_count": 17,
     "metadata": {},
     "output_type": "execute_result"
    }
   ],
   "source": [
    "class_0['year'].mean()"
   ]
  },
  {
   "cell_type": "code",
   "execution_count": 18,
   "id": "aef61c56",
   "metadata": {},
   "outputs": [
    {
     "data": {
      "text/plain": [
       "1983.9186817890006"
      ]
     },
     "execution_count": 18,
     "metadata": {},
     "output_type": "execute_result"
    }
   ],
   "source": [
    "class_1['year'].mean()"
   ]
  },
  {
   "cell_type": "code",
   "execution_count": 19,
   "id": "b05a9840",
   "metadata": {},
   "outputs": [
    {
     "data": {
      "text/plain": [
       "1982.2615483391342"
      ]
     },
     "execution_count": 19,
     "metadata": {},
     "output_type": "execute_result"
    }
   ],
   "source": [
    "class_2['year'].mean()"
   ]
  },
  {
   "cell_type": "code",
   "execution_count": 20,
   "id": "8135a8cc",
   "metadata": {},
   "outputs": [
    {
     "data": {
      "text/plain": [
       "2007.1148103496243"
      ]
     },
     "execution_count": 20,
     "metadata": {},
     "output_type": "execute_result"
    }
   ],
   "source": [
    "class_3['year'].mean()"
   ]
  },
  {
   "cell_type": "code",
   "execution_count": 21,
   "id": "b6e21ac7",
   "metadata": {},
   "outputs": [
    {
     "data": {
      "text/plain": [
       "1976.7063204809906"
      ]
     },
     "execution_count": 21,
     "metadata": {},
     "output_type": "execute_result"
    }
   ],
   "source": [
    "class_4['year'].mean()"
   ]
  },
  {
   "cell_type": "code",
   "execution_count": 22,
   "id": "560ecff6",
   "metadata": {},
   "outputs": [
    {
     "data": {
      "text/html": [
       "<div>\n",
       "<style scoped>\n",
       "    .dataframe tbody tr th:only-of-type {\n",
       "        vertical-align: middle;\n",
       "    }\n",
       "\n",
       "    .dataframe tbody tr th {\n",
       "        vertical-align: top;\n",
       "    }\n",
       "\n",
       "    .dataframe thead th {\n",
       "        text-align: right;\n",
       "    }\n",
       "</style>\n",
       "<table border=\"1\" class=\"dataframe\">\n",
       "  <thead>\n",
       "    <tr style=\"text-align: right;\">\n",
       "      <th></th>\n",
       "      <th>Unnamed: 0</th>\n",
       "      <th>year</th>\n",
       "      <th>acousticness</th>\n",
       "      <th>danceability</th>\n",
       "      <th>duration_ms</th>\n",
       "      <th>energy</th>\n",
       "      <th>explicit</th>\n",
       "      <th>instrumentalness</th>\n",
       "      <th>loudness</th>\n",
       "      <th>popularity</th>\n",
       "      <th>tempo</th>\n",
       "      <th>Class</th>\n",
       "    </tr>\n",
       "  </thead>\n",
       "  <tbody>\n",
       "    <tr>\n",
       "      <th>0</th>\n",
       "      <td>7606</td>\n",
       "      <td>1960</td>\n",
       "      <td>0.547</td>\n",
       "      <td>0.274</td>\n",
       "      <td>179693</td>\n",
       "      <td>0.348</td>\n",
       "      <td>0</td>\n",
       "      <td>0.013300</td>\n",
       "      <td>-8.631</td>\n",
       "      <td>76</td>\n",
       "      <td>87.430</td>\n",
       "      <td>1</td>\n",
       "    </tr>\n",
       "    <tr>\n",
       "      <th>1</th>\n",
       "      <td>7607</td>\n",
       "      <td>1960</td>\n",
       "      <td>0.829</td>\n",
       "      <td>0.421</td>\n",
       "      <td>196133</td>\n",
       "      <td>0.285</td>\n",
       "      <td>0</td>\n",
       "      <td>0.000002</td>\n",
       "      <td>-9.430</td>\n",
       "      <td>70</td>\n",
       "      <td>85.861</td>\n",
       "      <td>1</td>\n",
       "    </tr>\n",
       "    <tr>\n",
       "      <th>2</th>\n",
       "      <td>7608</td>\n",
       "      <td>1960</td>\n",
       "      <td>0.764</td>\n",
       "      <td>0.508</td>\n",
       "      <td>175987</td>\n",
       "      <td>0.287</td>\n",
       "      <td>0</td>\n",
       "      <td>0.000000</td>\n",
       "      <td>-12.472</td>\n",
       "      <td>69</td>\n",
       "      <td>154.759</td>\n",
       "      <td>1</td>\n",
       "    </tr>\n",
       "    <tr>\n",
       "      <th>3</th>\n",
       "      <td>7609</td>\n",
       "      <td>1960</td>\n",
       "      <td>0.733</td>\n",
       "      <td>0.579</td>\n",
       "      <td>131733</td>\n",
       "      <td>0.502</td>\n",
       "      <td>0</td>\n",
       "      <td>0.000000</td>\n",
       "      <td>-7.570</td>\n",
       "      <td>69</td>\n",
       "      <td>76.816</td>\n",
       "      <td>0</td>\n",
       "    </tr>\n",
       "    <tr>\n",
       "      <th>4</th>\n",
       "      <td>7610</td>\n",
       "      <td>1960</td>\n",
       "      <td>0.699</td>\n",
       "      <td>0.743</td>\n",
       "      <td>139200</td>\n",
       "      <td>0.799</td>\n",
       "      <td>0</td>\n",
       "      <td>0.000000</td>\n",
       "      <td>-5.466</td>\n",
       "      <td>62</td>\n",
       "      <td>116.112</td>\n",
       "      <td>0</td>\n",
       "    </tr>\n",
       "  </tbody>\n",
       "</table>\n",
       "</div>"
      ],
      "text/plain": [
       "   Unnamed: 0  year  acousticness  danceability  duration_ms  energy  \\\n",
       "0        7606  1960         0.547         0.274       179693   0.348   \n",
       "1        7607  1960         0.829         0.421       196133   0.285   \n",
       "2        7608  1960         0.764         0.508       175987   0.287   \n",
       "3        7609  1960         0.733         0.579       131733   0.502   \n",
       "4        7610  1960         0.699         0.743       139200   0.799   \n",
       "\n",
       "   explicit  instrumentalness  loudness  popularity    tempo  Class  \n",
       "0         0          0.013300    -8.631          76   87.430      1  \n",
       "1         0          0.000002    -9.430          70   85.861      1  \n",
       "2         0          0.000000   -12.472          69  154.759      1  \n",
       "3         0          0.000000    -7.570          69   76.816      0  \n",
       "4         0          0.000000    -5.466          62  116.112      0  "
      ]
     },
     "execution_count": 22,
     "metadata": {},
     "output_type": "execute_result"
    }
   ],
   "source": [
    "reclustered_df = pd.read_csv('clustered_w3PC_music_data.csv')\n",
    "reclustered_df.head()"
   ]
  },
  {
   "cell_type": "code",
   "execution_count": 38,
   "id": "b3aee4d5",
   "metadata": {},
   "outputs": [
    {
     "name": "stdout",
     "output_type": "stream",
     "text": [
      "Class 0 has 32471 songs and an average popularity of 35.69535893566567.\n"
     ]
    }
   ],
   "source": [
    "r_class_0 = reclustered_df[(reclustered_df['Class'] == 0)]\n",
    "pop_0 = r_class_0['popularity'].mean()\n",
    "print(f\"Class 0 has {r_class_0.count()['popularity']} songs and an average popularity of {pop_0}.\")"
   ]
  },
  {
   "cell_type": "code",
   "execution_count": 39,
   "id": "d19fbdd2",
   "metadata": {},
   "outputs": [
    {
     "name": "stdout",
     "output_type": "stream",
     "text": [
      "Class 1 has 23903 songs and an average popularity of 31.997950048111115.\n"
     ]
    }
   ],
   "source": [
    "r_class_1 = reclustered_df[(reclustered_df['Class'] == 1)]\n",
    "pop_1 = r_class_1['popularity'].mean()\n",
    "print(f\"Class 1 has {r_class_1.count()['popularity']} songs and an average popularity of {pop_1}.\")"
   ]
  },
  {
   "cell_type": "code",
   "execution_count": 40,
   "id": "3e6d9bbd",
   "metadata": {},
   "outputs": [
    {
     "name": "stdout",
     "output_type": "stream",
     "text": [
      "Class 2 has 28774 songs and an average popularity of 57.00052130395496.\n"
     ]
    }
   ],
   "source": [
    "r_class_2 = reclustered_df[(reclustered_df['Class'] == 2)]\n",
    "pop_2 = r_class_2['popularity'].mean()\n",
    "print(f\"Class 2 has {r_class_2.count()['popularity']} songs and an average popularity of {pop_2}.\")"
   ]
  },
  {
   "cell_type": "code",
   "execution_count": 41,
   "id": "4680c79c",
   "metadata": {},
   "outputs": [
    {
     "name": "stdout",
     "output_type": "stream",
     "text": [
      "Class 3 has 8027 songs and an average popularity of 37.80204310452224.\n"
     ]
    }
   ],
   "source": [
    "r_class_3 = reclustered_df[(reclustered_df['Class'] == 3)]\n",
    "pop_3 = r_class_3['popularity'].mean()\n",
    "print(f\"Class 3 has {r_class_3.count()['popularity']} songs and an average popularity of {pop_3}.\")"
   ]
  },
  {
   "cell_type": "code",
   "execution_count": 42,
   "id": "b254fd0c",
   "metadata": {},
   "outputs": [
    {
     "name": "stdout",
     "output_type": "stream",
     "text": [
      "Class 4 has 25545 songs and an average popularity of 42.82313564298297.\n"
     ]
    }
   ],
   "source": [
    "r_class_4 = reclustered_df[(reclustered_df['Class'] == 4)]\n",
    "pop_4 = r_class_4['popularity'].mean()\n",
    "print(f\"Class 4 has {r_class_4.count()['popularity']} songs and an average popularity of {pop_4}.\")"
   ]
  },
  {
   "cell_type": "code",
   "execution_count": 49,
   "id": "7454d318",
   "metadata": {},
   "outputs": [],
   "source": [
    "yr_0 = r_class_0['year'].mean()"
   ]
  },
  {
   "cell_type": "code",
   "execution_count": 50,
   "id": "d6ae7159",
   "metadata": {},
   "outputs": [],
   "source": [
    "yr_1 = r_class_1['year'].mean()"
   ]
  },
  {
   "cell_type": "code",
   "execution_count": 51,
   "id": "d28b178e",
   "metadata": {},
   "outputs": [],
   "source": [
    "yr_2 = r_class_2['year'].mean()"
   ]
  },
  {
   "cell_type": "code",
   "execution_count": 52,
   "id": "fe93dda6",
   "metadata": {},
   "outputs": [],
   "source": [
    "yr_3 = r_class_3['year'].mean()"
   ]
  },
  {
   "cell_type": "code",
   "execution_count": 53,
   "id": "5d6267c3",
   "metadata": {},
   "outputs": [],
   "source": [
    "yr_4 = r_class_4['year'].mean()"
   ]
  },
  {
   "cell_type": "code",
   "execution_count": 48,
   "id": "551ad923",
   "metadata": {},
   "outputs": [
    {
     "data": {
      "text/plain": [
       "Text(0.5, 1.0, 'Popularity for Each Cluster')"
      ]
     },
     "execution_count": 48,
     "metadata": {},
     "output_type": "execute_result"
    },
    {
     "data": {
      "image/png": "[encoded data removed]",
      "text/plain": [
       "<Figure size 432x288 with 1 Axes>"
      ]
     },
     "metadata": {
      "needs_background": "light"
     },
     "output_type": "display_data"
    }
   ],
   "source": [
    "y = [pop_0, pop_1, pop_2, pop_3, pop_4]\n",
    "x = [\"Class 0\", \"Class 1\", \"Class 2\", \"Class 3\", \"Class 4\"]\n",
    "plt.bar(x,y, color=\"deepskyblue\")\n",
    "plt.xlabel(\"Class\")\n",
    "plt.ylabel(\"Popularity\")\n",
    "plt.title(\"Popularity for Each Cluster\")"
   ]
  },
  {
   "cell_type": "code",
   "execution_count": 57,
   "id": "934f1622",
   "metadata": {},
   "outputs": [
    {
     "data": {
      "text/plain": [
       "Text(0.5, 1.0, 'Average Release Date for Each Cluster')"
      ]
     },
     "execution_count": 57,
     "metadata": {},
     "output_type": "execute_result"
    },
    {
     "data": {
      "image/png": "[encoded data removed]",
      "text/plain": [
       "<Figure size 432x288 with 1 Axes>"
      ]
     },
     "metadata": {
      "needs_background": "light"
     },
     "output_type": "display_data"
    }
   ],
   "source": [
    "y = [yr_0, yr_1, yr_2, yr_3, yr_4]\n",
    "x = [\"Class 0\", \"Class 1\", \"Class 2\", \"Class 3\", \"Class 4\"]\n",
    "plt.bar(x,y, color=\"deepskyblue\")\n",
    "plt.xlabel(\"Class\")\n",
    "plt.ylabel(\"Average Year\")\n",
    "plt.ylim([1960,2020])\n",
    "plt.title(\"Average Release Date for Each Cluster\")\n"
   ]
  },
  {
   "cell_type": "code",
   "execution_count": 33,
   "id": "b38b7909",
   "metadata": {},
   "outputs": [
    {
     "data": {
      "text/html": [
       "<div>\n",
       "<style scoped>\n",
       "    .dataframe tbody tr th:only-of-type {\n",
       "        vertical-align: middle;\n",
       "    }\n",
       "\n",
       "    .dataframe tbody tr th {\n",
       "        vertical-align: top;\n",
       "    }\n",
       "\n",
       "    .dataframe thead th {\n",
       "        text-align: right;\n",
       "    }\n",
       "</style>\n",
       "<table border=\"1\" class=\"dataframe\">\n",
       "  <thead>\n",
       "    <tr style=\"text-align: right;\">\n",
       "      <th></th>\n",
       "      <th>year</th>\n",
       "      <th>acousticness</th>\n",
       "      <th>artists</th>\n",
       "      <th>danceability</th>\n",
       "      <th>duration_ms</th>\n",
       "      <th>energy</th>\n",
       "      <th>explicit</th>\n",
       "      <th>instrumentalness</th>\n",
       "      <th>loudness</th>\n",
       "      <th>name</th>\n",
       "      <th>popularity</th>\n",
       "      <th>tempo</th>\n",
       "      <th>pop_ratio</th>\n",
       "    </tr>\n",
       "    <tr>\n",
       "      <th>orig_index</th>\n",
       "      <th></th>\n",
       "      <th></th>\n",
       "      <th></th>\n",
       "      <th></th>\n",
       "      <th></th>\n",
       "      <th></th>\n",
       "      <th></th>\n",
       "      <th></th>\n",
       "      <th></th>\n",
       "      <th></th>\n",
       "      <th></th>\n",
       "      <th></th>\n",
       "      <th></th>\n",
       "    </tr>\n",
       "  </thead>\n",
       "  <tbody>\n",
       "    <tr>\n",
       "      <th>7606</th>\n",
       "      <td>1960</td>\n",
       "      <td>0.547</td>\n",
       "      <td>['Etta James']</td>\n",
       "      <td>0.274</td>\n",
       "      <td>179693</td>\n",
       "      <td>0.348</td>\n",
       "      <td>0</td>\n",
       "      <td>0.013300</td>\n",
       "      <td>-8.631</td>\n",
       "      <td>At Last</td>\n",
       "      <td>76</td>\n",
       "      <td>87.430</td>\n",
       "      <td>76.0</td>\n",
       "    </tr>\n",
       "    <tr>\n",
       "      <th>7607</th>\n",
       "      <td>1960</td>\n",
       "      <td>0.829</td>\n",
       "      <td>['Etta James']</td>\n",
       "      <td>0.421</td>\n",
       "      <td>196133</td>\n",
       "      <td>0.285</td>\n",
       "      <td>0</td>\n",
       "      <td>0.000002</td>\n",
       "      <td>-9.430</td>\n",
       "      <td>A Sunday Kind Of Love</td>\n",
       "      <td>70</td>\n",
       "      <td>85.861</td>\n",
       "      <td>70.0</td>\n",
       "    </tr>\n",
       "    <tr>\n",
       "      <th>7608</th>\n",
       "      <td>1960</td>\n",
       "      <td>0.764</td>\n",
       "      <td>['Ella Fitzgerald']</td>\n",
       "      <td>0.508</td>\n",
       "      <td>175987</td>\n",
       "      <td>0.287</td>\n",
       "      <td>0</td>\n",
       "      <td>0.000000</td>\n",
       "      <td>-12.472</td>\n",
       "      <td>Sleigh Ride</td>\n",
       "      <td>69</td>\n",
       "      <td>154.759</td>\n",
       "      <td>69.0</td>\n",
       "    </tr>\n",
       "    <tr>\n",
       "      <th>7609</th>\n",
       "      <td>1960</td>\n",
       "      <td>0.733</td>\n",
       "      <td>['Ella Fitzgerald']</td>\n",
       "      <td>0.579</td>\n",
       "      <td>131733</td>\n",
       "      <td>0.502</td>\n",
       "      <td>0</td>\n",
       "      <td>0.000000</td>\n",
       "      <td>-7.570</td>\n",
       "      <td>Frosty The Snowman</td>\n",
       "      <td>69</td>\n",
       "      <td>76.816</td>\n",
       "      <td>69.0</td>\n",
       "    </tr>\n",
       "    <tr>\n",
       "      <th>7610</th>\n",
       "      <td>1960</td>\n",
       "      <td>0.699</td>\n",
       "      <td>['Neil Sedaka']</td>\n",
       "      <td>0.743</td>\n",
       "      <td>139200</td>\n",
       "      <td>0.799</td>\n",
       "      <td>0</td>\n",
       "      <td>0.000000</td>\n",
       "      <td>-5.466</td>\n",
       "      <td>Breaking Up Is Hard to Do</td>\n",
       "      <td>62</td>\n",
       "      <td>116.112</td>\n",
       "      <td>62.0</td>\n",
       "    </tr>\n",
       "  </tbody>\n",
       "</table>\n",
       "</div>"
      ],
      "text/plain": [
       "            year  acousticness              artists  danceability  \\\n",
       "orig_index                                                          \n",
       "7606        1960         0.547       ['Etta James']         0.274   \n",
       "7607        1960         0.829       ['Etta James']         0.421   \n",
       "7608        1960         0.764  ['Ella Fitzgerald']         0.508   \n",
       "7609        1960         0.733  ['Ella Fitzgerald']         0.579   \n",
       "7610        1960         0.699      ['Neil Sedaka']         0.743   \n",
       "\n",
       "            duration_ms  energy  explicit  instrumentalness  loudness  \\\n",
       "orig_index                                                              \n",
       "7606             179693   0.348         0          0.013300    -8.631   \n",
       "7607             196133   0.285         0          0.000002    -9.430   \n",
       "7608             175987   0.287         0          0.000000   -12.472   \n",
       "7609             131733   0.502         0          0.000000    -7.570   \n",
       "7610             139200   0.799         0          0.000000    -5.466   \n",
       "\n",
       "                                 name  popularity    tempo  pop_ratio  \n",
       "orig_index                                                             \n",
       "7606                          At Last          76   87.430       76.0  \n",
       "7607            A Sunday Kind Of Love          70   85.861       70.0  \n",
       "7608                      Sleigh Ride          69  154.759       69.0  \n",
       "7609               Frosty The Snowman          69   76.816       69.0  \n",
       "7610        Breaking Up Is Hard to Do          62  116.112       62.0  "
      ]
     },
     "execution_count": 33,
     "metadata": {},
     "output_type": "execute_result"
    }
   ],
   "source": [
    "# division by other column\n",
    "music_df['pop_ratio'] = (music_df['popularity'] / ((music_df['year'])-1959)).round(2)\n",
    "\n",
    "music_df.head()"
   ]
  },
  {
   "cell_type": "code",
   "execution_count": 34,
   "id": "706faa53",
   "metadata": {},
   "outputs": [
    {
     "data": {
      "text/plain": [
       "2.3056391509434087"
      ]
     },
     "execution_count": 34,
     "metadata": {},
     "output_type": "execute_result"
    }
   ],
   "source": [
    "music_df['pop_ratio'].mean()"
   ]
  },
  {
   "cell_type": "code",
   "execution_count": 35,
   "id": "3d915281",
   "metadata": {},
   "outputs": [
    {
     "data": {
      "text/plain": [
       "Text(0, 0.5, 'Popularity')"
      ]
     },
     "execution_count": 35,
     "metadata": {},
     "output_type": "execute_result"
    },
    {
     "data": {
      "image/png": "[encoded data removed]",
      "text/plain": [
       "<Figure size 432x288 with 1 Axes>"
      ]
     },
     "metadata": {
      "needs_background": "light"
     },
     "output_type": "display_data"
    }
   ],
   "source": [
    "plt.scatter(music_df['year'], music_df['popularity'])\n",
    "plt.xlabel(\"Year\")\n",
    "plt.ylabel(\"Popularity\")"
   ]
  },
  {
   "cell_type": "code",
   "execution_count": 36,
   "id": "c86c5d40",
   "metadata": {},
   "outputs": [
    {
     "data": {
      "text/html": [
       "<div>\n",
       "<style scoped>\n",
       "    .dataframe tbody tr th:only-of-type {\n",
       "        vertical-align: middle;\n",
       "    }\n",
       "\n",
       "    .dataframe tbody tr th {\n",
       "        vertical-align: top;\n",
       "    }\n",
       "\n",
       "    .dataframe thead th {\n",
       "        text-align: right;\n",
       "    }\n",
       "</style>\n",
       "<table border=\"1\" class=\"dataframe\">\n",
       "  <thead>\n",
       "    <tr style=\"text-align: right;\">\n",
       "      <th></th>\n",
       "      <th>year</th>\n",
       "      <th>acousticness</th>\n",
       "      <th>artists</th>\n",
       "      <th>danceability</th>\n",
       "      <th>duration_ms</th>\n",
       "      <th>energy</th>\n",
       "      <th>explicit</th>\n",
       "      <th>instrumentalness</th>\n",
       "      <th>loudness</th>\n",
       "      <th>name</th>\n",
       "      <th>popularity</th>\n",
       "      <th>tempo</th>\n",
       "      <th>pop_ratio</th>\n",
       "    </tr>\n",
       "    <tr>\n",
       "      <th>orig_index</th>\n",
       "      <th></th>\n",
       "      <th></th>\n",
       "      <th></th>\n",
       "      <th></th>\n",
       "      <th></th>\n",
       "      <th></th>\n",
       "      <th></th>\n",
       "      <th></th>\n",
       "      <th></th>\n",
       "      <th></th>\n",
       "      <th></th>\n",
       "      <th></th>\n",
       "      <th></th>\n",
       "    </tr>\n",
       "  </thead>\n",
       "  <tbody>\n",
       "    <tr>\n",
       "      <th>7606</th>\n",
       "      <td>1960</td>\n",
       "      <td>0.5470</td>\n",
       "      <td>['Etta James']</td>\n",
       "      <td>0.274</td>\n",
       "      <td>179693</td>\n",
       "      <td>0.348</td>\n",
       "      <td>0</td>\n",
       "      <td>0.013300</td>\n",
       "      <td>-8.631</td>\n",
       "      <td>At Last</td>\n",
       "      <td>76</td>\n",
       "      <td>87.430</td>\n",
       "      <td>76.00</td>\n",
       "    </tr>\n",
       "    <tr>\n",
       "      <th>7806</th>\n",
       "      <td>1961</td>\n",
       "      <td>0.9410</td>\n",
       "      <td>['Elvis Presley']</td>\n",
       "      <td>0.396</td>\n",
       "      <td>182360</td>\n",
       "      <td>0.293</td>\n",
       "      <td>0</td>\n",
       "      <td>0.000196</td>\n",
       "      <td>-14.062</td>\n",
       "      <td>Can't Help Falling in Love</td>\n",
       "      <td>78</td>\n",
       "      <td>100.307</td>\n",
       "      <td>39.00</td>\n",
       "    </tr>\n",
       "    <tr>\n",
       "      <th>8006</th>\n",
       "      <td>1962</td>\n",
       "      <td>0.9200</td>\n",
       "      <td>['Nat King Cole']</td>\n",
       "      <td>0.319</td>\n",
       "      <td>192160</td>\n",
       "      <td>0.210</td>\n",
       "      <td>0</td>\n",
       "      <td>0.000081</td>\n",
       "      <td>-15.231</td>\n",
       "      <td>The Christmas Song (Merry Christmas To You)</td>\n",
       "      <td>77</td>\n",
       "      <td>78.696</td>\n",
       "      <td>25.67</td>\n",
       "    </tr>\n",
       "    <tr>\n",
       "      <th>8007</th>\n",
       "      <td>1962</td>\n",
       "      <td>0.8180</td>\n",
       "      <td>['Nat King Cole']</td>\n",
       "      <td>0.553</td>\n",
       "      <td>84987</td>\n",
       "      <td>0.337</td>\n",
       "      <td>0</td>\n",
       "      <td>0.000000</td>\n",
       "      <td>-10.334</td>\n",
       "      <td>Joy To The World</td>\n",
       "      <td>72</td>\n",
       "      <td>101.918</td>\n",
       "      <td>24.00</td>\n",
       "    </tr>\n",
       "    <tr>\n",
       "      <th>8009</th>\n",
       "      <td>1962</td>\n",
       "      <td>0.5700</td>\n",
       "      <td>['Ben E. King']</td>\n",
       "      <td>0.650</td>\n",
       "      <td>180056</td>\n",
       "      <td>0.306</td>\n",
       "      <td>0</td>\n",
       "      <td>0.000007</td>\n",
       "      <td>-9.443</td>\n",
       "      <td>Stand by Me</td>\n",
       "      <td>78</td>\n",
       "      <td>118.068</td>\n",
       "      <td>26.00</td>\n",
       "    </tr>\n",
       "    <tr>\n",
       "      <th>...</th>\n",
       "      <td>...</td>\n",
       "      <td>...</td>\n",
       "      <td>...</td>\n",
       "      <td>...</td>\n",
       "      <td>...</td>\n",
       "      <td>...</td>\n",
       "      <td>...</td>\n",
       "      <td>...</td>\n",
       "      <td>...</td>\n",
       "      <td>...</td>\n",
       "      <td>...</td>\n",
       "      <td>...</td>\n",
       "      <td>...</td>\n",
       "    </tr>\n",
       "    <tr>\n",
       "      <th>170424</th>\n",
       "      <td>2019</td>\n",
       "      <td>0.2890</td>\n",
       "      <td>['Kevin Roldan', 'Bryant Myers', 'Lyanno']</td>\n",
       "      <td>0.714</td>\n",
       "      <td>229827</td>\n",
       "      <td>0.671</td>\n",
       "      <td>0</td>\n",
       "      <td>0.000000</td>\n",
       "      <td>-5.119</td>\n",
       "      <td>Hasta Abajo</td>\n",
       "      <td>73</td>\n",
       "      <td>169.732</td>\n",
       "      <td>1.22</td>\n",
       "    </tr>\n",
       "    <tr>\n",
       "      <th>170434</th>\n",
       "      <td>2019</td>\n",
       "      <td>0.5770</td>\n",
       "      <td>['Rauf &amp; Faik']</td>\n",
       "      <td>0.684</td>\n",
       "      <td>204490</td>\n",
       "      <td>0.760</td>\n",
       "      <td>0</td>\n",
       "      <td>0.000131</td>\n",
       "      <td>-5.033</td>\n",
       "      <td>это ли счастье?</td>\n",
       "      <td>73</td>\n",
       "      <td>154.033</td>\n",
       "      <td>1.22</td>\n",
       "    </tr>\n",
       "    <tr>\n",
       "      <th>170440</th>\n",
       "      <td>2019</td>\n",
       "      <td>0.1480</td>\n",
       "      <td>['Sebastian Yatra', 'Reik']</td>\n",
       "      <td>0.771</td>\n",
       "      <td>164440</td>\n",
       "      <td>0.382</td>\n",
       "      <td>0</td>\n",
       "      <td>0.000000</td>\n",
       "      <td>-6.808</td>\n",
       "      <td>Un Año</td>\n",
       "      <td>73</td>\n",
       "      <td>94.931</td>\n",
       "      <td>1.22</td>\n",
       "    </tr>\n",
       "    <tr>\n",
       "      <th>170445</th>\n",
       "      <td>2019</td>\n",
       "      <td>0.1410</td>\n",
       "      <td>['Dalex', 'Lenny Tavárez', 'Anitta', 'Natti Na...</td>\n",
       "      <td>0.795</td>\n",
       "      <td>304733</td>\n",
       "      <td>0.715</td>\n",
       "      <td>1</td>\n",
       "      <td>0.000002</td>\n",
       "      <td>-3.582</td>\n",
       "      <td>Bellaquita - Remix</td>\n",
       "      <td>73</td>\n",
       "      <td>165.941</td>\n",
       "      <td>1.22</td>\n",
       "    </tr>\n",
       "    <tr>\n",
       "      <th>170446</th>\n",
       "      <td>2019</td>\n",
       "      <td>0.0532</td>\n",
       "      <td>['Ghetto Kids', 'Guaynaa', 'Mad Fuentes']</td>\n",
       "      <td>0.847</td>\n",
       "      <td>171000</td>\n",
       "      <td>0.736</td>\n",
       "      <td>0</td>\n",
       "      <td>0.000142</td>\n",
       "      <td>-4.542</td>\n",
       "      <td>Tra Tra Tra Remix - Remix</td>\n",
       "      <td>72</td>\n",
       "      <td>160.012</td>\n",
       "      <td>1.20</td>\n",
       "    </tr>\n",
       "  </tbody>\n",
       "</table>\n",
       "<p>2716 rows × 13 columns</p>\n",
       "</div>"
      ],
      "text/plain": [
       "            year  acousticness  \\\n",
       "orig_index                       \n",
       "7606        1960        0.5470   \n",
       "7806        1961        0.9410   \n",
       "8006        1962        0.9200   \n",
       "8007        1962        0.8180   \n",
       "8009        1962        0.5700   \n",
       "...          ...           ...   \n",
       "170424      2019        0.2890   \n",
       "170434      2019        0.5770   \n",
       "170440      2019        0.1480   \n",
       "170445      2019        0.1410   \n",
       "170446      2019        0.0532   \n",
       "\n",
       "                                                      artists  danceability  \\\n",
       "orig_index                                                                    \n",
       "7606                                           ['Etta James']         0.274   \n",
       "7806                                        ['Elvis Presley']         0.396   \n",
       "8006                                        ['Nat King Cole']         0.319   \n",
       "8007                                        ['Nat King Cole']         0.553   \n",
       "8009                                          ['Ben E. King']         0.650   \n",
       "...                                                       ...           ...   \n",
       "170424             ['Kevin Roldan', 'Bryant Myers', 'Lyanno']         0.714   \n",
       "170434                                        ['Rauf & Faik']         0.684   \n",
       "170440                            ['Sebastian Yatra', 'Reik']         0.771   \n",
       "170445      ['Dalex', 'Lenny Tavárez', 'Anitta', 'Natti Na...         0.795   \n",
       "170446              ['Ghetto Kids', 'Guaynaa', 'Mad Fuentes']         0.847   \n",
       "\n",
       "            duration_ms  energy  explicit  instrumentalness  loudness  \\\n",
       "orig_index                                                              \n",
       "7606             179693   0.348         0          0.013300    -8.631   \n",
       "7806             182360   0.293         0          0.000196   -14.062   \n",
       "8006             192160   0.210         0          0.000081   -15.231   \n",
       "8007              84987   0.337         0          0.000000   -10.334   \n",
       "8009             180056   0.306         0          0.000007    -9.443   \n",
       "...                 ...     ...       ...               ...       ...   \n",
       "170424           229827   0.671         0          0.000000    -5.119   \n",
       "170434           204490   0.760         0          0.000131    -5.033   \n",
       "170440           164440   0.382         0          0.000000    -6.808   \n",
       "170445           304733   0.715         1          0.000002    -3.582   \n",
       "170446           171000   0.736         0          0.000142    -4.542   \n",
       "\n",
       "                                                   name  popularity    tempo  \\\n",
       "orig_index                                                                     \n",
       "7606                                            At Last          76   87.430   \n",
       "7806                         Can't Help Falling in Love          78  100.307   \n",
       "8006        The Christmas Song (Merry Christmas To You)          77   78.696   \n",
       "8007                                   Joy To The World          72  101.918   \n",
       "8009                                        Stand by Me          78  118.068   \n",
       "...                                                 ...         ...      ...   \n",
       "170424                                      Hasta Abajo          73  169.732   \n",
       "170434                                  это ли счастье?          73  154.033   \n",
       "170440                                           Un Año          73   94.931   \n",
       "170445                               Bellaquita - Remix          73  165.941   \n",
       "170446                        Tra Tra Tra Remix - Remix          72  160.012   \n",
       "\n",
       "            pop_ratio  \n",
       "orig_index             \n",
       "7606            76.00  \n",
       "7806            39.00  \n",
       "8006            25.67  \n",
       "8007            24.00  \n",
       "8009            26.00  \n",
       "...               ...  \n",
       "170424           1.22  \n",
       "170434           1.22  \n",
       "170440           1.22  \n",
       "170445           1.22  \n",
       "170446           1.20  \n",
       "\n",
       "[2716 rows x 13 columns]"
      ]
     },
     "execution_count": 36,
     "metadata": {},
     "output_type": "execute_result"
    }
   ],
   "source": [
    "popular_songs = music_df[(music_df['popularity']>=72)]\n",
    "popular_songs"
   ]
  },
  {
   "cell_type": "code",
   "execution_count": 37,
   "id": "b91f7fa3",
   "metadata": {},
   "outputs": [
    {
     "data": {
      "text/plain": [
       "[<matplotlib.lines.Line2D at 0x1e4247160c8>]"
      ]
     },
     "execution_count": 37,
     "metadata": {},
     "output_type": "execute_result"
    },
    {
     "data": {
      "image/png": "[encoded data removed]",
      "text/plain": [
       "<Figure size 432x288 with 1 Axes>"
      ]
     },
     "metadata": {
      "needs_background": "light"
     },
     "output_type": "display_data"
    }
   ],
   "source": [
    "y = popular_songs['year'].value_counts().sort_index()\n",
    "x = popular_songs['year'].unique()\n",
    "plt.xlabel(\"Year\")\n",
    "plt.ylabel(\"Popular Songs Released\")\n",
    "plt.plot(x,y)"
   ]
  },
  {
   "cell_type": "code",
   "execution_count": null,
   "id": "67afb5a9",
   "metadata": {},
   "outputs": [],
   "source": []
  }
 ],
 "metadata": {
  "kernelspec": {
   "display_name": "PythonData",
   "language": "python",
   "name": "pythondata"
  },
  "language_info": {
   "codemirror_mode": {
    "name": "ipython",
    "version": 3
   },
   "file_extension": ".py",
   "mimetype": "text/x-python",
   "name": "python",
   "nbconvert_exporter": "python",
   "pygments_lexer": "ipython3",
   "version": "3.7.10"
  }
 },
 "nbformat": 4,
 "nbformat_minor": 5
}
