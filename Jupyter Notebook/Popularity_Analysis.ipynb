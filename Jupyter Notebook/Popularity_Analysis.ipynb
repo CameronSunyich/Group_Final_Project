{
 "cells": [
  {
   "cell_type": "code",
   "execution_count": 15,
   "id": "e1ac8751",
   "metadata": {},
   "outputs": [],
   "source": [
    "import pandas as pd\n",
    "import numpy as np\n",
    "import matplotlib.pyplot as plt\n",
    "%matplotlib inline"
   ]
  },
  {
   "cell_type": "code",
   "execution_count": 2,
   "id": "12d834a1",
   "metadata": {},
   "outputs": [
    {
     "data": {
      "text/html": [
       "<div>\n",
       "<style scoped>\n",
       "    .dataframe tbody tr th:only-of-type {\n",
       "        vertical-align: middle;\n",
       "    }\n",
       "\n",
       "    .dataframe tbody tr th {\n",
       "        vertical-align: top;\n",
       "    }\n",
       "\n",
       "    .dataframe thead th {\n",
       "        text-align: right;\n",
       "    }\n",
       "</style>\n",
       "<table border=\"1\" class=\"dataframe\">\n",
       "  <thead>\n",
       "    <tr style=\"text-align: right;\">\n",
       "      <th></th>\n",
       "      <th>year</th>\n",
       "      <th>acousticness</th>\n",
       "      <th>artists</th>\n",
       "      <th>danceability</th>\n",
       "      <th>duration_ms</th>\n",
       "      <th>energy</th>\n",
       "      <th>explicit</th>\n",
       "      <th>instrumentalness</th>\n",
       "      <th>loudness</th>\n",
       "      <th>name</th>\n",
       "      <th>popularity</th>\n",
       "      <th>tempo</th>\n",
       "    </tr>\n",
       "    <tr>\n",
       "      <th>orig_index</th>\n",
       "      <th></th>\n",
       "      <th></th>\n",
       "      <th></th>\n",
       "      <th></th>\n",
       "      <th></th>\n",
       "      <th></th>\n",
       "      <th></th>\n",
       "      <th></th>\n",
       "      <th></th>\n",
       "      <th></th>\n",
       "      <th></th>\n",
       "      <th></th>\n",
       "    </tr>\n",
       "  </thead>\n",
       "  <tbody>\n",
       "    <tr>\n",
       "      <th>7606</th>\n",
       "      <td>1960</td>\n",
       "      <td>0.547</td>\n",
       "      <td>['Etta James']</td>\n",
       "      <td>0.274</td>\n",
       "      <td>179693</td>\n",
       "      <td>0.348</td>\n",
       "      <td>0</td>\n",
       "      <td>0.013300</td>\n",
       "      <td>-8.631</td>\n",
       "      <td>At Last</td>\n",
       "      <td>76</td>\n",
       "      <td>87.430</td>\n",
       "    </tr>\n",
       "    <tr>\n",
       "      <th>7607</th>\n",
       "      <td>1960</td>\n",
       "      <td>0.829</td>\n",
       "      <td>['Etta James']</td>\n",
       "      <td>0.421</td>\n",
       "      <td>196133</td>\n",
       "      <td>0.285</td>\n",
       "      <td>0</td>\n",
       "      <td>0.000002</td>\n",
       "      <td>-9.430</td>\n",
       "      <td>A Sunday Kind Of Love</td>\n",
       "      <td>70</td>\n",
       "      <td>85.861</td>\n",
       "    </tr>\n",
       "    <tr>\n",
       "      <th>7608</th>\n",
       "      <td>1960</td>\n",
       "      <td>0.764</td>\n",
       "      <td>['Ella Fitzgerald']</td>\n",
       "      <td>0.508</td>\n",
       "      <td>175987</td>\n",
       "      <td>0.287</td>\n",
       "      <td>0</td>\n",
       "      <td>0.000000</td>\n",
       "      <td>-12.472</td>\n",
       "      <td>Sleigh Ride</td>\n",
       "      <td>69</td>\n",
       "      <td>154.759</td>\n",
       "    </tr>\n",
       "    <tr>\n",
       "      <th>7609</th>\n",
       "      <td>1960</td>\n",
       "      <td>0.733</td>\n",
       "      <td>['Ella Fitzgerald']</td>\n",
       "      <td>0.579</td>\n",
       "      <td>131733</td>\n",
       "      <td>0.502</td>\n",
       "      <td>0</td>\n",
       "      <td>0.000000</td>\n",
       "      <td>-7.570</td>\n",
       "      <td>Frosty The Snowman</td>\n",
       "      <td>69</td>\n",
       "      <td>76.816</td>\n",
       "    </tr>\n",
       "    <tr>\n",
       "      <th>7610</th>\n",
       "      <td>1960</td>\n",
       "      <td>0.699</td>\n",
       "      <td>['Neil Sedaka']</td>\n",
       "      <td>0.743</td>\n",
       "      <td>139200</td>\n",
       "      <td>0.799</td>\n",
       "      <td>0</td>\n",
       "      <td>0.000000</td>\n",
       "      <td>-5.466</td>\n",
       "      <td>Breaking Up Is Hard to Do</td>\n",
       "      <td>62</td>\n",
       "      <td>116.112</td>\n",
       "    </tr>\n",
       "  </tbody>\n",
       "</table>\n",
       "</div>"
      ],
      "text/plain": [
       "            year  acousticness              artists  danceability  \\\n",
       "orig_index                                                          \n",
       "7606        1960         0.547       ['Etta James']         0.274   \n",
       "7607        1960         0.829       ['Etta James']         0.421   \n",
       "7608        1960         0.764  ['Ella Fitzgerald']         0.508   \n",
       "7609        1960         0.733  ['Ella Fitzgerald']         0.579   \n",
       "7610        1960         0.699      ['Neil Sedaka']         0.743   \n",
       "\n",
       "            duration_ms  energy  explicit  instrumentalness  loudness  \\\n",
       "orig_index                                                              \n",
       "7606             179693   0.348         0          0.013300    -8.631   \n",
       "7607             196133   0.285         0          0.000002    -9.430   \n",
       "7608             175987   0.287         0          0.000000   -12.472   \n",
       "7609             131733   0.502         0          0.000000    -7.570   \n",
       "7610             139200   0.799         0          0.000000    -5.466   \n",
       "\n",
       "                                 name  popularity    tempo  \n",
       "orig_index                                                  \n",
       "7606                          At Last          76   87.430  \n",
       "7607            A Sunday Kind Of Love          70   85.861  \n",
       "7608                      Sleigh Ride          69  154.759  \n",
       "7609               Frosty The Snowman          69   76.816  \n",
       "7610        Breaking Up Is Hard to Do          62  116.112  "
      ]
     },
     "execution_count": 2,
     "metadata": {},
     "output_type": "execute_result"
    }
   ],
   "source": [
    "music_df = pd.read_csv('cleaned_music_data.csv')\n",
    "music_df.rename(columns={'Unnamed: 0':'orig_index'},inplace=True)\n",
    "music_df = music_df.set_index('orig_index')\n",
    "music_df.head()"
   ]
  },
  {
   "cell_type": "code",
   "execution_count": 3,
   "id": "523acacd",
   "metadata": {},
   "outputs": [
    {
     "data": {
      "text/plain": [
       "(9815, 12)"
      ]
     },
     "execution_count": 3,
     "metadata": {},
     "output_type": "execute_result"
    }
   ],
   "source": [
    "# Only take new songs to compare new popular songs against unpopular ones\n",
    "new_songs = music_df[(music_df['year']>=2015)]\n",
    "new_songs.shape"
   ]
  },
  {
   "cell_type": "code",
   "execution_count": 4,
   "id": "1ee9610a",
   "metadata": {},
   "outputs": [
    {
     "name": "stdout",
     "output_type": "stream",
     "text": [
      "Popularity of new songs has a mean of 61.6843 and and standard deviation of 14.6754.\n"
     ]
    }
   ],
   "source": [
    "print(f\"Popularity of new songs has a mean of {new_songs['popularity'].mean():.4f} and and standard deviation of {new_songs['popularity'].std():.4f}.\")"
   ]
  },
  {
   "cell_type": "code",
   "execution_count": 5,
   "id": "9ede8048",
   "metadata": {},
   "outputs": [
    {
     "data": {
      "text/html": [
       "<div>\n",
       "<style scoped>\n",
       "    .dataframe tbody tr th:only-of-type {\n",
       "        vertical-align: middle;\n",
       "    }\n",
       "\n",
       "    .dataframe tbody tr th {\n",
       "        vertical-align: top;\n",
       "    }\n",
       "\n",
       "    .dataframe thead th {\n",
       "        text-align: right;\n",
       "    }\n",
       "</style>\n",
       "<table border=\"1\" class=\"dataframe\">\n",
       "  <thead>\n",
       "    <tr style=\"text-align: right;\">\n",
       "      <th></th>\n",
       "      <th>year</th>\n",
       "      <th>acousticness</th>\n",
       "      <th>artists</th>\n",
       "      <th>danceability</th>\n",
       "      <th>duration_ms</th>\n",
       "      <th>energy</th>\n",
       "      <th>explicit</th>\n",
       "      <th>instrumentalness</th>\n",
       "      <th>loudness</th>\n",
       "      <th>name</th>\n",
       "      <th>popularity</th>\n",
       "      <th>tempo</th>\n",
       "    </tr>\n",
       "    <tr>\n",
       "      <th>orig_index</th>\n",
       "      <th></th>\n",
       "      <th></th>\n",
       "      <th></th>\n",
       "      <th></th>\n",
       "      <th></th>\n",
       "      <th></th>\n",
       "      <th></th>\n",
       "      <th></th>\n",
       "      <th></th>\n",
       "      <th></th>\n",
       "      <th></th>\n",
       "      <th></th>\n",
       "    </tr>\n",
       "  </thead>\n",
       "  <tbody>\n",
       "    <tr>\n",
       "      <th>18606</th>\n",
       "      <td>2015</td>\n",
       "      <td>0.00543</td>\n",
       "      <td>['BØRNS']</td>\n",
       "      <td>0.611</td>\n",
       "      <td>218107</td>\n",
       "      <td>0.797</td>\n",
       "      <td>0</td>\n",
       "      <td>0.001370</td>\n",
       "      <td>-7.627</td>\n",
       "      <td>Electric Love</td>\n",
       "      <td>87</td>\n",
       "      <td>120.041</td>\n",
       "    </tr>\n",
       "    <tr>\n",
       "      <th>18607</th>\n",
       "      <td>2015</td>\n",
       "      <td>0.06780</td>\n",
       "      <td>['The Neighbourhood']</td>\n",
       "      <td>0.588</td>\n",
       "      <td>260173</td>\n",
       "      <td>0.521</td>\n",
       "      <td>0</td>\n",
       "      <td>0.149000</td>\n",
       "      <td>-9.461</td>\n",
       "      <td>Daddy Issues</td>\n",
       "      <td>86</td>\n",
       "      <td>85.012</td>\n",
       "    </tr>\n",
       "    <tr>\n",
       "      <th>18608</th>\n",
       "      <td>2015</td>\n",
       "      <td>0.01150</td>\n",
       "      <td>['Tame Impala']</td>\n",
       "      <td>0.640</td>\n",
       "      <td>216320</td>\n",
       "      <td>0.740</td>\n",
       "      <td>1</td>\n",
       "      <td>0.006780</td>\n",
       "      <td>-4.083</td>\n",
       "      <td>The Less I Know The Better</td>\n",
       "      <td>85</td>\n",
       "      <td>116.879</td>\n",
       "    </tr>\n",
       "    <tr>\n",
       "      <th>18609</th>\n",
       "      <td>2015</td>\n",
       "      <td>0.20500</td>\n",
       "      <td>['Chris Stapleton']</td>\n",
       "      <td>0.392</td>\n",
       "      <td>293293</td>\n",
       "      <td>0.370</td>\n",
       "      <td>0</td>\n",
       "      <td>0.009600</td>\n",
       "      <td>-10.888</td>\n",
       "      <td>Tennessee Whiskey</td>\n",
       "      <td>79</td>\n",
       "      <td>48.718</td>\n",
       "    </tr>\n",
       "    <tr>\n",
       "      <th>18610</th>\n",
       "      <td>2015</td>\n",
       "      <td>0.03710</td>\n",
       "      <td>['WILLOW']</td>\n",
       "      <td>0.764</td>\n",
       "      <td>196520</td>\n",
       "      <td>0.705</td>\n",
       "      <td>0</td>\n",
       "      <td>0.000019</td>\n",
       "      <td>-5.279</td>\n",
       "      <td>Wait a Minute!</td>\n",
       "      <td>83</td>\n",
       "      <td>101.003</td>\n",
       "    </tr>\n",
       "    <tr>\n",
       "      <th>...</th>\n",
       "      <td>...</td>\n",
       "      <td>...</td>\n",
       "      <td>...</td>\n",
       "      <td>...</td>\n",
       "      <td>...</td>\n",
       "      <td>...</td>\n",
       "      <td>...</td>\n",
       "      <td>...</td>\n",
       "      <td>...</td>\n",
       "      <td>...</td>\n",
       "      <td>...</td>\n",
       "      <td>...</td>\n",
       "    </tr>\n",
       "    <tr>\n",
       "      <th>124710</th>\n",
       "      <td>2019</td>\n",
       "      <td>0.01490</td>\n",
       "      <td>['Riton', 'Oliver Heldens', 'Vula']</td>\n",
       "      <td>0.737</td>\n",
       "      <td>208474</td>\n",
       "      <td>0.828</td>\n",
       "      <td>0</td>\n",
       "      <td>0.000583</td>\n",
       "      <td>-4.711</td>\n",
       "      <td>Turn Me On (feat. Vula)</td>\n",
       "      <td>78</td>\n",
       "      <td>124.052</td>\n",
       "    </tr>\n",
       "    <tr>\n",
       "      <th>140372</th>\n",
       "      <td>2018</td>\n",
       "      <td>0.14900</td>\n",
       "      <td>['Super Yei', 'Sammy', 'Myke Towers', 'Lenny T...</td>\n",
       "      <td>0.656</td>\n",
       "      <td>307435</td>\n",
       "      <td>0.662</td>\n",
       "      <td>0</td>\n",
       "      <td>0.000008</td>\n",
       "      <td>-1.387</td>\n",
       "      <td>La Forma en Que Me Miras</td>\n",
       "      <td>77</td>\n",
       "      <td>189.983</td>\n",
       "    </tr>\n",
       "    <tr>\n",
       "      <th>140502</th>\n",
       "      <td>2019</td>\n",
       "      <td>0.24100</td>\n",
       "      <td>['Rels B']</td>\n",
       "      <td>0.846</td>\n",
       "      <td>209680</td>\n",
       "      <td>0.548</td>\n",
       "      <td>0</td>\n",
       "      <td>0.071300</td>\n",
       "      <td>-6.397</td>\n",
       "      <td>A Mí</td>\n",
       "      <td>79</td>\n",
       "      <td>94.925</td>\n",
       "    </tr>\n",
       "    <tr>\n",
       "      <th>140588</th>\n",
       "      <td>2019</td>\n",
       "      <td>0.05950</td>\n",
       "      <td>['Lucky Luke']</td>\n",
       "      <td>0.889</td>\n",
       "      <td>179760</td>\n",
       "      <td>0.716</td>\n",
       "      <td>0</td>\n",
       "      <td>0.040900</td>\n",
       "      <td>-6.146</td>\n",
       "      <td>Cooler Than Me</td>\n",
       "      <td>81</td>\n",
       "      <td>128.022</td>\n",
       "    </tr>\n",
       "    <tr>\n",
       "      <th>155322</th>\n",
       "      <td>2019</td>\n",
       "      <td>0.12000</td>\n",
       "      <td>['Rich Music LTD', 'Sech', 'Dalex', 'Justin Qu...</td>\n",
       "      <td>0.769</td>\n",
       "      <td>300267</td>\n",
       "      <td>0.747</td>\n",
       "      <td>1</td>\n",
       "      <td>0.000007</td>\n",
       "      <td>-4.560</td>\n",
       "      <td>Feel Me</td>\n",
       "      <td>77</td>\n",
       "      <td>81.034</td>\n",
       "    </tr>\n",
       "  </tbody>\n",
       "</table>\n",
       "<p>589 rows × 12 columns</p>\n",
       "</div>"
      ],
      "text/plain": [
       "            year  acousticness  \\\n",
       "orig_index                       \n",
       "18606       2015       0.00543   \n",
       "18607       2015       0.06780   \n",
       "18608       2015       0.01150   \n",
       "18609       2015       0.20500   \n",
       "18610       2015       0.03710   \n",
       "...          ...           ...   \n",
       "124710      2019       0.01490   \n",
       "140372      2018       0.14900   \n",
       "140502      2019       0.24100   \n",
       "140588      2019       0.05950   \n",
       "155322      2019       0.12000   \n",
       "\n",
       "                                                      artists  danceability  \\\n",
       "orig_index                                                                    \n",
       "18606                                               ['BØRNS']         0.611   \n",
       "18607                                   ['The Neighbourhood']         0.588   \n",
       "18608                                         ['Tame Impala']         0.640   \n",
       "18609                                     ['Chris Stapleton']         0.392   \n",
       "18610                                              ['WILLOW']         0.764   \n",
       "...                                                       ...           ...   \n",
       "124710                    ['Riton', 'Oliver Heldens', 'Vula']         0.737   \n",
       "140372      ['Super Yei', 'Sammy', 'Myke Towers', 'Lenny T...         0.656   \n",
       "140502                                             ['Rels B']         0.846   \n",
       "140588                                         ['Lucky Luke']         0.889   \n",
       "155322      ['Rich Music LTD', 'Sech', 'Dalex', 'Justin Qu...         0.769   \n",
       "\n",
       "            duration_ms  energy  explicit  instrumentalness  loudness  \\\n",
       "orig_index                                                              \n",
       "18606            218107   0.797         0          0.001370    -7.627   \n",
       "18607            260173   0.521         0          0.149000    -9.461   \n",
       "18608            216320   0.740         1          0.006780    -4.083   \n",
       "18609            293293   0.370         0          0.009600   -10.888   \n",
       "18610            196520   0.705         0          0.000019    -5.279   \n",
       "...                 ...     ...       ...               ...       ...   \n",
       "124710           208474   0.828         0          0.000583    -4.711   \n",
       "140372           307435   0.662         0          0.000008    -1.387   \n",
       "140502           209680   0.548         0          0.071300    -6.397   \n",
       "140588           179760   0.716         0          0.040900    -6.146   \n",
       "155322           300267   0.747         1          0.000007    -4.560   \n",
       "\n",
       "                                  name  popularity    tempo  \n",
       "orig_index                                                   \n",
       "18606                    Electric Love          87  120.041  \n",
       "18607                     Daddy Issues          86   85.012  \n",
       "18608       The Less I Know The Better          85  116.879  \n",
       "18609                Tennessee Whiskey          79   48.718  \n",
       "18610                   Wait a Minute!          83  101.003  \n",
       "...                                ...         ...      ...  \n",
       "124710         Turn Me On (feat. Vula)          78  124.052  \n",
       "140372        La Forma en Que Me Miras          77  189.983  \n",
       "140502                            A Mí          79   94.925  \n",
       "140588                  Cooler Than Me          81  128.022  \n",
       "155322                         Feel Me          77   81.034  \n",
       "\n",
       "[589 rows x 12 columns]"
      ]
     },
     "execution_count": 5,
     "metadata": {},
     "output_type": "execute_result"
    }
   ],
   "source": [
    "# Define popular songs as rating of 77 and higher, which is one standard deviations above the mean (top 15%)\n",
    "popular_songs = new_songs[(new_songs['popularity']>=77)]\n",
    "\n",
    "popular_songs"
   ]
  },
  {
   "cell_type": "code",
   "execution_count": 6,
   "id": "47256f8a",
   "metadata": {},
   "outputs": [
    {
     "data": {
      "text/html": [
       "<div>\n",
       "<style scoped>\n",
       "    .dataframe tbody tr th:only-of-type {\n",
       "        vertical-align: middle;\n",
       "    }\n",
       "\n",
       "    .dataframe tbody tr th {\n",
       "        vertical-align: top;\n",
       "    }\n",
       "\n",
       "    .dataframe thead th {\n",
       "        text-align: right;\n",
       "    }\n",
       "</style>\n",
       "<table border=\"1\" class=\"dataframe\">\n",
       "  <thead>\n",
       "    <tr style=\"text-align: right;\">\n",
       "      <th></th>\n",
       "      <th>year</th>\n",
       "      <th>acousticness</th>\n",
       "      <th>artists</th>\n",
       "      <th>danceability</th>\n",
       "      <th>duration_ms</th>\n",
       "      <th>energy</th>\n",
       "      <th>explicit</th>\n",
       "      <th>instrumentalness</th>\n",
       "      <th>loudness</th>\n",
       "      <th>name</th>\n",
       "      <th>popularity</th>\n",
       "      <th>tempo</th>\n",
       "    </tr>\n",
       "    <tr>\n",
       "      <th>orig_index</th>\n",
       "      <th></th>\n",
       "      <th></th>\n",
       "      <th></th>\n",
       "      <th></th>\n",
       "      <th></th>\n",
       "      <th></th>\n",
       "      <th></th>\n",
       "      <th></th>\n",
       "      <th></th>\n",
       "      <th></th>\n",
       "      <th></th>\n",
       "      <th></th>\n",
       "    </tr>\n",
       "  </thead>\n",
       "  <tbody>\n",
       "    <tr>\n",
       "      <th>37613</th>\n",
       "      <td>2015</td>\n",
       "      <td>0.834000</td>\n",
       "      <td>['Alabama Shakes']</td>\n",
       "      <td>0.628</td>\n",
       "      <td>268853</td>\n",
       "      <td>0.329</td>\n",
       "      <td>0</td>\n",
       "      <td>0.003350</td>\n",
       "      <td>-11.424</td>\n",
       "      <td>This Feeling</td>\n",
       "      <td>61</td>\n",
       "      <td>130.808</td>\n",
       "    </tr>\n",
       "    <tr>\n",
       "      <th>37630</th>\n",
       "      <td>2015</td>\n",
       "      <td>0.344000</td>\n",
       "      <td>['Houndmouth']</td>\n",
       "      <td>0.472</td>\n",
       "      <td>258480</td>\n",
       "      <td>0.347</td>\n",
       "      <td>0</td>\n",
       "      <td>0.037900</td>\n",
       "      <td>-8.011</td>\n",
       "      <td>Darlin'</td>\n",
       "      <td>61</td>\n",
       "      <td>116.904</td>\n",
       "    </tr>\n",
       "    <tr>\n",
       "      <th>37660</th>\n",
       "      <td>2015</td>\n",
       "      <td>0.051300</td>\n",
       "      <td>['Parker McCollum']</td>\n",
       "      <td>0.558</td>\n",
       "      <td>210760</td>\n",
       "      <td>0.662</td>\n",
       "      <td>0</td>\n",
       "      <td>0.000000</td>\n",
       "      <td>-6.129</td>\n",
       "      <td>Meet You in the Middle</td>\n",
       "      <td>61</td>\n",
       "      <td>97.962</td>\n",
       "    </tr>\n",
       "    <tr>\n",
       "      <th>37671</th>\n",
       "      <td>2015</td>\n",
       "      <td>0.066600</td>\n",
       "      <td>['Upchurch']</td>\n",
       "      <td>0.644</td>\n",
       "      <td>167973</td>\n",
       "      <td>0.763</td>\n",
       "      <td>1</td>\n",
       "      <td>0.000000</td>\n",
       "      <td>-6.487</td>\n",
       "      <td>Cheatham County</td>\n",
       "      <td>61</td>\n",
       "      <td>172.161</td>\n",
       "    </tr>\n",
       "    <tr>\n",
       "      <th>37672</th>\n",
       "      <td>2015</td>\n",
       "      <td>0.004630</td>\n",
       "      <td>['Bea Miller']</td>\n",
       "      <td>0.539</td>\n",
       "      <td>211573</td>\n",
       "      <td>0.869</td>\n",
       "      <td>0</td>\n",
       "      <td>0.000000</td>\n",
       "      <td>-5.341</td>\n",
       "      <td>Fire N Gold</td>\n",
       "      <td>61</td>\n",
       "      <td>143.987</td>\n",
       "    </tr>\n",
       "    <tr>\n",
       "      <th>...</th>\n",
       "      <td>...</td>\n",
       "      <td>...</td>\n",
       "      <td>...</td>\n",
       "      <td>...</td>\n",
       "      <td>...</td>\n",
       "      <td>...</td>\n",
       "      <td>...</td>\n",
       "      <td>...</td>\n",
       "      <td>...</td>\n",
       "      <td>...</td>\n",
       "      <td>...</td>\n",
       "      <td>...</td>\n",
       "    </tr>\n",
       "    <tr>\n",
       "      <th>170438</th>\n",
       "      <td>2019</td>\n",
       "      <td>0.389000</td>\n",
       "      <td>['Vansire']</td>\n",
       "      <td>0.822</td>\n",
       "      <td>162663</td>\n",
       "      <td>0.544</td>\n",
       "      <td>0</td>\n",
       "      <td>0.165000</td>\n",
       "      <td>-10.077</td>\n",
       "      <td>Metamodernity</td>\n",
       "      <td>61</td>\n",
       "      <td>121.968</td>\n",
       "    </tr>\n",
       "    <tr>\n",
       "      <th>170443</th>\n",
       "      <td>2019</td>\n",
       "      <td>0.115000</td>\n",
       "      <td>['Hozier']</td>\n",
       "      <td>0.456</td>\n",
       "      <td>331013</td>\n",
       "      <td>0.750</td>\n",
       "      <td>1</td>\n",
       "      <td>0.000017</td>\n",
       "      <td>-4.609</td>\n",
       "      <td>No Plan</td>\n",
       "      <td>57</td>\n",
       "      <td>80.019</td>\n",
       "    </tr>\n",
       "    <tr>\n",
       "      <th>170449</th>\n",
       "      <td>2019</td>\n",
       "      <td>0.001210</td>\n",
       "      <td>['Wallows']</td>\n",
       "      <td>0.449</td>\n",
       "      <td>247613</td>\n",
       "      <td>0.825</td>\n",
       "      <td>0</td>\n",
       "      <td>0.000000</td>\n",
       "      <td>-5.177</td>\n",
       "      <td>Just Like A Movie</td>\n",
       "      <td>60</td>\n",
       "      <td>135.934</td>\n",
       "    </tr>\n",
       "    <tr>\n",
       "      <th>170451</th>\n",
       "      <td>2019</td>\n",
       "      <td>0.000755</td>\n",
       "      <td>['Paul Amp']</td>\n",
       "      <td>0.766</td>\n",
       "      <td>196875</td>\n",
       "      <td>0.649</td>\n",
       "      <td>0</td>\n",
       "      <td>0.545000</td>\n",
       "      <td>-13.051</td>\n",
       "      <td>The Train</td>\n",
       "      <td>59</td>\n",
       "      <td>127.996</td>\n",
       "    </tr>\n",
       "    <tr>\n",
       "      <th>170452</th>\n",
       "      <td>2019</td>\n",
       "      <td>0.233000</td>\n",
       "      <td>['LUCKI']</td>\n",
       "      <td>0.780</td>\n",
       "      <td>132115</td>\n",
       "      <td>0.453</td>\n",
       "      <td>1</td>\n",
       "      <td>0.000002</td>\n",
       "      <td>-9.926</td>\n",
       "      <td>4 The Betta</td>\n",
       "      <td>58</td>\n",
       "      <td>155.984</td>\n",
       "    </tr>\n",
       "  </tbody>\n",
       "</table>\n",
       "<p>3572 rows × 12 columns</p>\n",
       "</div>"
      ],
      "text/plain": [
       "            year  acousticness              artists  danceability  \\\n",
       "orig_index                                                          \n",
       "37613       2015      0.834000   ['Alabama Shakes']         0.628   \n",
       "37630       2015      0.344000       ['Houndmouth']         0.472   \n",
       "37660       2015      0.051300  ['Parker McCollum']         0.558   \n",
       "37671       2015      0.066600         ['Upchurch']         0.644   \n",
       "37672       2015      0.004630       ['Bea Miller']         0.539   \n",
       "...          ...           ...                  ...           ...   \n",
       "170438      2019      0.389000          ['Vansire']         0.822   \n",
       "170443      2019      0.115000           ['Hozier']         0.456   \n",
       "170449      2019      0.001210          ['Wallows']         0.449   \n",
       "170451      2019      0.000755         ['Paul Amp']         0.766   \n",
       "170452      2019      0.233000            ['LUCKI']         0.780   \n",
       "\n",
       "            duration_ms  energy  explicit  instrumentalness  loudness  \\\n",
       "orig_index                                                              \n",
       "37613            268853   0.329         0          0.003350   -11.424   \n",
       "37630            258480   0.347         0          0.037900    -8.011   \n",
       "37660            210760   0.662         0          0.000000    -6.129   \n",
       "37671            167973   0.763         1          0.000000    -6.487   \n",
       "37672            211573   0.869         0          0.000000    -5.341   \n",
       "...                 ...     ...       ...               ...       ...   \n",
       "170438           162663   0.544         0          0.165000   -10.077   \n",
       "170443           331013   0.750         1          0.000017    -4.609   \n",
       "170449           247613   0.825         0          0.000000    -5.177   \n",
       "170451           196875   0.649         0          0.545000   -13.051   \n",
       "170452           132115   0.453         1          0.000002    -9.926   \n",
       "\n",
       "                              name  popularity    tempo  \n",
       "orig_index                                               \n",
       "37613                 This Feeling          61  130.808  \n",
       "37630                      Darlin'          61  116.904  \n",
       "37660       Meet You in the Middle          61   97.962  \n",
       "37671              Cheatham County          61  172.161  \n",
       "37672                  Fire N Gold          61  143.987  \n",
       "...                            ...         ...      ...  \n",
       "170438               Metamodernity          61  121.968  \n",
       "170443                     No Plan          57   80.019  \n",
       "170449           Just Like A Movie          60  135.934  \n",
       "170451                   The Train          59  127.996  \n",
       "170452                 4 The Betta          58  155.984  \n",
       "\n",
       "[3572 rows x 12 columns]"
      ]
     },
     "execution_count": 6,
     "metadata": {},
     "output_type": "execute_result"
    }
   ],
   "source": [
    "# Define recent releases that are not popular, 2 standard deviations below the mean, up to the mean \n",
    "    # Deciding to ignore lower 15%, needs to be known but not played often \n",
    "\n",
    "unpopular_songs = new_songs[(new_songs['popularity']<62)]\n",
    "unpopular_songs = unpopular_songs[(unpopular_songs['popularity']>=32)]\n",
    "unpopular_songs"
   ]
  },
  {
   "cell_type": "markdown",
   "id": "4246d0d1",
   "metadata": {},
   "source": [
    "### Tempo"
   ]
  },
  {
   "cell_type": "code",
   "execution_count": 67,
   "id": "c2cfba32",
   "metadata": {},
   "outputs": [
    {
     "data": {
      "image/png": "[encoded data removed]",
      "text/plain": [
       "<Figure size 432x288 with 1 Axes>"
      ]
     },
     "metadata": {
      "needs_background": "light"
     },
     "output_type": "display_data"
    }
   ],
   "source": [
    "# Tempo\n",
    "x1 = popular_songs['tempo']\n",
    "x2 = unpopular_songs['tempo']\n",
    "\n",
    "plt.hist(x2, bins=30, alpha=0.8, color=\"mediumslateblue\", label=\"Unpopular Songs\")\n",
    "plt.hist(x1, bins=30, alpha=0.8, color=\"mediumspringgreen\", label=\"Popular Songs\")\n",
    "\n",
    "plt.xlabel(\"Tempo\")\n",
    "plt.ylabel(\"Number of Songs\")\n",
    "plt.title(\"Distribution for Tempo\")\n",
    "plt.legend()\n",
    "plt.show()"
   ]
  },
  {
   "cell_type": "code",
   "execution_count": 68,
   "id": "7fb9801a",
   "metadata": {
    "scrolled": true
   },
   "outputs": [
    {
     "name": "stdout",
     "output_type": "stream",
     "text": [
      "Average tempo for popular songs is 118.440 and for unpopular songs is 118.908.\n",
      " Tempo for all new songs has a mean of 119.667 and a standard deviation of 30.840.\n"
     ]
    }
   ],
   "source": [
    "print(f\"Average tempo for popular songs is {popular_songs['tempo'].mean():.3f} and for unpopular songs is {unpopular_songs['tempo'].mean():.3f}.\\n Tempo for all new songs has a mean of {new_songs['tempo'].mean():.3f} and a standard deviation of {new_songs['tempo'].std():.3f}.\")"
   ]
  },
  {
   "cell_type": "markdown",
   "id": "f5597f99",
   "metadata": {},
   "source": [
    "### Duration"
   ]
  },
  {
   "cell_type": "code",
   "execution_count": 69,
   "id": "68bf0c47",
   "metadata": {},
   "outputs": [
    {
     "data": {
      "image/png": "[encoded data removed]",
      "text/plain": [
       "<Figure size 432x288 with 1 Axes>"
      ]
     },
     "metadata": {
      "needs_background": "light"
     },
     "output_type": "display_data"
    }
   ],
   "source": [
    "# Duration \n",
    "x1 = popular_songs['duration_ms']\n",
    "x2 = unpopular_songs['duration_ms']\n",
    "\n",
    "plt.hist(x2, bins=30, alpha=0.8, color=\"mediumslateblue\", label=\"Unpopular Songs\")\n",
    "plt.hist(x1, bins=30, alpha=0.8, color=\"mediumspringgreen\", label=\"Popular Songs\")\n",
    "\n",
    "plt.xlabel(\"Duration (ms)\")\n",
    "plt.ylabel(\"Number of Songs\")\n",
    "plt.title(\"Distribution for Duration\")\n",
    "plt.legend()\n",
    "plt.show()"
   ]
  },
  {
   "cell_type": "code",
   "execution_count": 70,
   "id": "5a55eb89",
   "metadata": {},
   "outputs": [
    {
     "name": "stdout",
     "output_type": "stream",
     "text": [
      "Average duration for popular songs is 204560.270 and for unpopular songs is 214419.160.\n",
      " Duration for all new songs has a mean of 213702.167 and a standard deviation of 61818.738.\n"
     ]
    }
   ],
   "source": [
    "print(f\"Average duration for popular songs is {popular_songs['duration_ms'].mean():.3f} and for unpopular songs is {unpopular_songs['duration_ms'].mean():.3f}.\\n Duration for all new songs has a mean of {new_songs['duration_ms'].mean():.3f} and a standard deviation of {new_songs['duration_ms'].std():.3f}.\")"
   ]
  },
  {
   "cell_type": "markdown",
   "id": "2898a5ef",
   "metadata": {},
   "source": [
    "### Loudness"
   ]
  },
  {
   "cell_type": "code",
   "execution_count": 71,
   "id": "3232d839",
   "metadata": {},
   "outputs": [
    {
     "name": "stdout",
     "output_type": "stream",
     "text": [
      "Average loudness for popular songs is -6.809 and for unpopular songs is -8.012.\n",
      " Loudness for all new songs has a mean of -7.766 and a standard deviation of 4.975.\n"
     ]
    }
   ],
   "source": [
    "print(f\"Average loudness for popular songs is {popular_songs['loudness'].mean():.3f} and for unpopular songs is {unpopular_songs['loudness'].mean():.3f}.\\n Loudness for all new songs has a mean of {new_songs['loudness'].mean():.3f} and a standard deviation of {new_songs['loudness'].std():.3f}.\")"
   ]
  },
  {
   "cell_type": "code",
   "execution_count": 72,
   "id": "dc221a77",
   "metadata": {},
   "outputs": [
    {
     "data": {
      "image/png": "[encoded data removed]",
      "text/plain": [
       "<Figure size 432x288 with 1 Axes>"
      ]
     },
     "metadata": {
      "needs_background": "light"
     },
     "output_type": "display_data"
    }
   ],
   "source": [
    "# Loudness\n",
    "x1 = popular_songs['loudness']\n",
    "x2 = unpopular_songs['loudness']\n",
    "\n",
    "plt.hist(x2, bins=30, alpha=0.8, color=\"mediumslateblue\", label=\"Unpopular Songs\")\n",
    "plt.hist(x1, bins=30, alpha=0.8, color=\"mediumspringgreen\", label=\"Popular Songs\")\n",
    "\n",
    "plt.xlabel(\"Loudness\")\n",
    "plt.ylabel(\"Number of Songs\")\n",
    "plt.title(\"Distribution for Loudness\")\n",
    "plt.legend()\n",
    "plt.show()"
   ]
  },
  {
   "cell_type": "markdown",
   "id": "a0e064bc",
   "metadata": {},
   "source": [
    "### Danceability"
   ]
  },
  {
   "cell_type": "code",
   "execution_count": 73,
   "id": "5fda24aa",
   "metadata": {},
   "outputs": [
    {
     "name": "stdout",
     "output_type": "stream",
     "text": [
      "Average danceability for popular songs is 0.664 and for unpopular songs is 0.605.\n",
      " Danceability for all new songs has a mean of 0.624 and a standard deviation of 0.174.\n"
     ]
    }
   ],
   "source": [
    "print(f\"Average danceability for popular songs is {popular_songs['danceability'].mean():.3f} and for unpopular songs is {unpopular_songs['danceability'].mean():.3f}.\\n Danceability for all new songs has a mean of {new_songs['danceability'].mean():.3f} and a standard deviation of {new_songs['danceability'].std():.3f}.\")"
   ]
  },
  {
   "cell_type": "code",
   "execution_count": 74,
   "id": "6fc9ec83",
   "metadata": {},
   "outputs": [
    {
     "data": {
      "image/png": "[encoded data removed]",
      "text/plain": [
       "<Figure size 432x288 with 1 Axes>"
      ]
     },
     "metadata": {
      "needs_background": "light"
     },
     "output_type": "display_data"
    }
   ],
   "source": [
    "# Danceability\n",
    "x1 = popular_songs['danceability']\n",
    "x2 = unpopular_songs['danceability']\n",
    "\n",
    "plt.hist(x2, bins=30, alpha=0.8, color=\"mediumslateblue\", label=\"Unpopular Songs\")\n",
    "plt.hist(x1, bins=30, alpha=0.8, color=\"mediumspringgreen\", label=\"Popular Songs\")\n",
    "\n",
    "plt.xlabel(\"Danceability\")\n",
    "plt.ylabel(\"Number of Songs\")\n",
    "plt.title(\"Distribution for Danceability\")\n",
    "plt.legend()\n",
    "plt.show()"
   ]
  },
  {
   "cell_type": "markdown",
   "id": "3ce4efdf",
   "metadata": {},
   "source": [
    "### Energy"
   ]
  },
  {
   "cell_type": "code",
   "execution_count": 75,
   "id": "e96d6880",
   "metadata": {},
   "outputs": [
    {
     "name": "stdout",
     "output_type": "stream",
     "text": [
      "Average energy for popular songs is 0.593 and for unpopular songs is 0.600.\n",
      " Energy for all new songs has a mean of 0.601 and a standard deviation of 0.216.\n"
     ]
    }
   ],
   "source": [
    "print(f\"Average energy for popular songs is {popular_songs['energy'].mean():.3f} and for unpopular songs is {unpopular_songs['energy'].mean():.3f}.\\n Energy for all new songs has a mean of {new_songs['energy'].mean():.3f} and a standard deviation of {new_songs['energy'].std():.3f}.\")"
   ]
  },
  {
   "cell_type": "code",
   "execution_count": 76,
   "id": "1027e83b",
   "metadata": {},
   "outputs": [
    {
     "data": {
      "image/png": "[encoded data removed]",
      "text/plain": [
       "<Figure size 432x288 with 1 Axes>"
      ]
     },
     "metadata": {
      "needs_background": "light"
     },
     "output_type": "display_data"
    }
   ],
   "source": [
    "# Energy\n",
    "x1 = popular_songs['energy']\n",
    "x2 = unpopular_songs['energy']\n",
    "\n",
    "plt.hist(x2, bins=30, alpha=0.8, color=\"mediumslateblue\", label=\"Unpopular Songs\")\n",
    "plt.hist(x1, bins=30, alpha=0.8, color=\"mediumspringgreen\", label=\"Popular Songs\")\n",
    "\n",
    "plt.xlabel(\"Energy\")\n",
    "plt.ylabel(\"Number of Songs\")\n",
    "plt.title(\"Distribution for Energy\")\n",
    "plt.legend()\n",
    "plt.show()"
   ]
  },
  {
   "cell_type": "markdown",
   "id": "835647cc",
   "metadata": {},
   "source": [
    "### Acousticness"
   ]
  },
  {
   "cell_type": "code",
   "execution_count": 77,
   "id": "4f86d610",
   "metadata": {
    "scrolled": true
   },
   "outputs": [
    {
     "name": "stdout",
     "output_type": "stream",
     "text": [
      "Average acousticness for popular songs is 0.281 and for unpopular songs is 0.272.\n",
      " Acousticness for all new songs has a mean of 0.274 and a standard deviation of 0.292.\n"
     ]
    }
   ],
   "source": [
    "print(f\"Average acousticness for popular songs is {popular_songs['acousticness'].mean():.3f} and for unpopular songs is {unpopular_songs['acousticness'].mean():.3f}.\\n Acousticness for all new songs has a mean of {new_songs['acousticness'].mean():.3f} and a standard deviation of {new_songs['acousticness'].std():.3f}.\")"
   ]
  },
  {
   "cell_type": "code",
   "execution_count": 78,
   "id": "6d46011d",
   "metadata": {},
   "outputs": [
    {
     "data": {
      "image/png": "[encoded data removed]",
      "text/plain": [
       "<Figure size 432x288 with 1 Axes>"
      ]
     },
     "metadata": {
      "needs_background": "light"
     },
     "output_type": "display_data"
    }
   ],
   "source": [
    "# Acousticness\n",
    "x1 = popular_songs['acousticness']\n",
    "x2 = unpopular_songs['acousticness']\n",
    "\n",
    "plt.hist(x2, bins=30, alpha=0.8, color=\"mediumslateblue\", label=\"Unpopular Songs\")\n",
    "plt.hist(x1, bins=30, alpha=0.8, color=\"mediumspringgreen\", label=\"Popular Songs\")\n",
    "\n",
    "plt.xlabel(\"Acousticness\")\n",
    "plt.ylabel(\"Number of Songs\")\n",
    "plt.title(\"Distribution for Acousticness\")\n",
    "plt.legend()\n",
    "plt.show()"
   ]
  },
  {
   "cell_type": "markdown",
   "id": "272c7401",
   "metadata": {},
   "source": [
    "### Explicit"
   ]
  },
  {
   "cell_type": "code",
   "execution_count": 79,
   "id": "12a1e498",
   "metadata": {},
   "outputs": [
    {
     "name": "stdout",
     "output_type": "stream",
     "text": [
      "Average explicit for popular songs is 0.382 and for unpopular songs is 0.363.\n",
      " Explicit for all new songs has a mean of 0.349 and a standard deviation of 0.477.\n"
     ]
    }
   ],
   "source": [
    "print(f\"Average explicit for popular songs is {popular_songs['explicit'].mean():.3f} and for unpopular songs is {unpopular_songs['explicit'].mean():.3f}.\\n Explicit for all new songs has a mean of {new_songs['explicit'].mean():.3f} and a standard deviation of {new_songs['explicit'].std():.3f}.\")"
   ]
  },
  {
   "cell_type": "code",
   "execution_count": 86,
   "id": "719a7c02",
   "metadata": {},
   "outputs": [
    {
     "data": {
      "image/png": "[encoded data removed]",
      "text/plain": [
       "<Figure size 432x288 with 1 Axes>"
      ]
     },
     "metadata": {
      "needs_background": "light"
     },
     "output_type": "display_data"
    }
   ],
   "source": [
    "# Explicit\n",
    "x1 = popular_songs['explicit']\n",
    "x2 = unpopular_songs['explicit']\n",
    "\n",
    "plt.hist(x2, bins=30, alpha=0.8, color=\"mediumslateblue\", label=\"Unpopular Songs\")\n",
    "plt.hist(x1, bins=30, alpha=0.8, color=\"mediumspringgreen\", label=\"Popular Songs\")\n",
    "\n",
    "plt.xlabel(\"Explicit\")\n",
    "plt.ylabel(\"Number of Songs\")\n",
    "plt.title(\"Distribution for Explicitness\")\n",
    "plt.xlim([-.5,1.5])\n",
    "plt.xticks([0,1])\n",
    "plt.legend()\n",
    "plt.show()"
   ]
  },
  {
   "cell_type": "code",
   "execution_count": null,
   "id": "9a4cd3cc",
   "metadata": {},
   "outputs": [],
   "source": []
  }
 ],
 "metadata": {
  "kernelspec": {
   "display_name": "PythonData",
   "language": "python",
   "name": "pythondata"
  },
  "language_info": {
   "codemirror_mode": {
    "name": "ipython",
    "version": 3
   },
   "file_extension": ".py",
   "mimetype": "text/x-python",
   "name": "python",
   "nbconvert_exporter": "python",
   "pygments_lexer": "ipython3",
   "version": "3.7.10"
  }
 },
 "nbformat": 4,
 "nbformat_minor": 5
}
