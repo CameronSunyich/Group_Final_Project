{
 "cells": [
  {
   "cell_type": "code",
   "execution_count": 5,
   "id": "e1610a8f",
   "metadata": {},
   "outputs": [],
   "source": [
    "#Import dependencies\n",
    "import matplotlib\n",
    "import matplotlib.pyplot as plt\n",
    "import pandas as pd\n",
    "import numpy as np\n",
    "import scipy.stats as sts"
   ]
  },
  {
   "cell_type": "code",
   "execution_count": 6,
   "id": "18593b60",
   "metadata": {},
   "outputs": [],
   "source": [
    "#Making sure plots are all inline and directly below code\n",
    "%matplotlib inline"
   ]
  },
  {
   "cell_type": "code",
   "execution_count": 7,
   "id": "b12f307f",
   "metadata": {},
   "outputs": [],
   "source": [
    "#Load the data\n",
    "data = \"..Downloads/Group_Final_Project/data.csv\""
   ]
  },
  {
   "cell_type": "code",
   "execution_count": null,
   "id": "ea23c235",
   "metadata": {},
   "outputs": [],
   "source": []
  }
 ],
 "metadata": {
  "kernelspec": {
   "display_name": "Python 3 (ipykernel)",
   "language": "python",
   "name": "python3"
  },
  "language_info": {
   "codemirror_mode": {
    "name": "ipython",
    "version": 3
   },
   "file_extension": ".py",
   "mimetype": "text/x-python",
   "name": "python",
   "nbconvert_exporter": "python",
   "pygments_lexer": "ipython3",
   "version": "3.9.7"
  }
 },
 "nbformat": 4,
 "nbformat_minor": 5
}
