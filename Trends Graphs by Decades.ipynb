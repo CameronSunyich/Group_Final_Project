{
 "cells": [
  {
   "cell_type": "code",
   "execution_count": 1,
   "id": "d76dfe8a",
   "metadata": {},
   "outputs": [],
   "source": [
    "# Import dependencies\n",
    "import matplotlib\n",
    "import matplotlib.pyplot as plt\n",
    "import csv\n",
    "import pandas as pd\n",
    "import numpy as np\n",
    "import scipy.stats as sts"
   ]
  },
  {
   "cell_type": "code",
   "execution_count": 2,
   "id": "5bc8fca8",
   "metadata": {},
   "outputs": [],
   "source": [
    "# Making sure plots are all inline and directly below code\n",
    "%matplotlib inline"
   ]
  },
  {
   "cell_type": "code",
   "execution_count": 3,
   "id": "03d9da20",
   "metadata": {},
   "outputs": [],
   "source": [
    "# Load the data\n",
    "data = \"cleaned_music_data.csv\""
   ]
  },
  {
   "cell_type": "code",
   "execution_count": 4,
   "id": "1416b238",
   "metadata": {},
   "outputs": [
    {
     "data": {
      "text/html": [
       "<div>\n",
       "<style scoped>\n",
       "    .dataframe tbody tr th:only-of-type {\n",
       "        vertical-align: middle;\n",
       "    }\n",
       "\n",
       "    .dataframe tbody tr th {\n",
       "        vertical-align: top;\n",
       "    }\n",
       "\n",
       "    .dataframe thead th {\n",
       "        text-align: right;\n",
       "    }\n",
       "</style>\n",
       "<table border=\"1\" class=\"dataframe\">\n",
       "  <thead>\n",
       "    <tr style=\"text-align: right;\">\n",
       "      <th></th>\n",
       "      <th>Unnamed: 0</th>\n",
       "      <th>year</th>\n",
       "      <th>acousticness</th>\n",
       "      <th>artists</th>\n",
       "      <th>danceability</th>\n",
       "      <th>duration_ms</th>\n",
       "      <th>energy</th>\n",
       "      <th>explicit</th>\n",
       "      <th>instrumentalness</th>\n",
       "      <th>loudness</th>\n",
       "      <th>name</th>\n",
       "      <th>popularity</th>\n",
       "      <th>tempo</th>\n",
       "    </tr>\n",
       "  </thead>\n",
       "  <tbody>\n",
       "    <tr>\n",
       "      <th>0</th>\n",
       "      <td>7606</td>\n",
       "      <td>1960</td>\n",
       "      <td>0.547</td>\n",
       "      <td>['Etta James']</td>\n",
       "      <td>0.274</td>\n",
       "      <td>179693</td>\n",
       "      <td>0.348</td>\n",
       "      <td>0</td>\n",
       "      <td>0.013300</td>\n",
       "      <td>-8.631</td>\n",
       "      <td>At Last</td>\n",
       "      <td>76</td>\n",
       "      <td>87.430</td>\n",
       "    </tr>\n",
       "    <tr>\n",
       "      <th>1</th>\n",
       "      <td>7607</td>\n",
       "      <td>1960</td>\n",
       "      <td>0.829</td>\n",
       "      <td>['Etta James']</td>\n",
       "      <td>0.421</td>\n",
       "      <td>196133</td>\n",
       "      <td>0.285</td>\n",
       "      <td>0</td>\n",
       "      <td>0.000002</td>\n",
       "      <td>-9.430</td>\n",
       "      <td>A Sunday Kind Of Love</td>\n",
       "      <td>70</td>\n",
       "      <td>85.861</td>\n",
       "    </tr>\n",
       "    <tr>\n",
       "      <th>2</th>\n",
       "      <td>7608</td>\n",
       "      <td>1960</td>\n",
       "      <td>0.764</td>\n",
       "      <td>['Ella Fitzgerald']</td>\n",
       "      <td>0.508</td>\n",
       "      <td>175987</td>\n",
       "      <td>0.287</td>\n",
       "      <td>0</td>\n",
       "      <td>0.000000</td>\n",
       "      <td>-12.472</td>\n",
       "      <td>Sleigh Ride</td>\n",
       "      <td>69</td>\n",
       "      <td>154.759</td>\n",
       "    </tr>\n",
       "    <tr>\n",
       "      <th>3</th>\n",
       "      <td>7609</td>\n",
       "      <td>1960</td>\n",
       "      <td>0.733</td>\n",
       "      <td>['Ella Fitzgerald']</td>\n",
       "      <td>0.579</td>\n",
       "      <td>131733</td>\n",
       "      <td>0.502</td>\n",
       "      <td>0</td>\n",
       "      <td>0.000000</td>\n",
       "      <td>-7.570</td>\n",
       "      <td>Frosty The Snowman</td>\n",
       "      <td>69</td>\n",
       "      <td>76.816</td>\n",
       "    </tr>\n",
       "    <tr>\n",
       "      <th>4</th>\n",
       "      <td>7610</td>\n",
       "      <td>1960</td>\n",
       "      <td>0.699</td>\n",
       "      <td>['Neil Sedaka']</td>\n",
       "      <td>0.743</td>\n",
       "      <td>139200</td>\n",
       "      <td>0.799</td>\n",
       "      <td>0</td>\n",
       "      <td>0.000000</td>\n",
       "      <td>-5.466</td>\n",
       "      <td>Breaking Up Is Hard to Do</td>\n",
       "      <td>62</td>\n",
       "      <td>116.112</td>\n",
       "    </tr>\n",
       "  </tbody>\n",
       "</table>\n",
       "</div>"
      ],
      "text/plain": [
       "   Unnamed: 0  year  acousticness              artists  danceability  \\\n",
       "0        7606  1960         0.547       ['Etta James']         0.274   \n",
       "1        7607  1960         0.829       ['Etta James']         0.421   \n",
       "2        7608  1960         0.764  ['Ella Fitzgerald']         0.508   \n",
       "3        7609  1960         0.733  ['Ella Fitzgerald']         0.579   \n",
       "4        7610  1960         0.699      ['Neil Sedaka']         0.743   \n",
       "\n",
       "   duration_ms  energy  explicit  instrumentalness  loudness  \\\n",
       "0       179693   0.348         0          0.013300    -8.631   \n",
       "1       196133   0.285         0          0.000002    -9.430   \n",
       "2       175987   0.287         0          0.000000   -12.472   \n",
       "3       131733   0.502         0          0.000000    -7.570   \n",
       "4       139200   0.799         0          0.000000    -5.466   \n",
       "\n",
       "                        name  popularity    tempo  \n",
       "0                    At Last          76   87.430  \n",
       "1      A Sunday Kind Of Love          70   85.861  \n",
       "2                Sleigh Ride          69  154.759  \n",
       "3         Frosty The Snowman          69   76.816  \n",
       "4  Breaking Up Is Hard to Do          62  116.112  "
      ]
     },
     "execution_count": 4,
     "metadata": {},
     "output_type": "execute_result"
    }
   ],
   "source": [
    "# Read the data\n",
    "data_df = pd.read_csv(data)\n",
    "data_df.head()"
   ]
  },
  {
   "cell_type": "code",
   "execution_count": 5,
   "id": "739c782c",
   "metadata": {},
   "outputs": [],
   "source": [
    "# Creating dataframes by decade\n",
    "sixty_df = data_df[(data_df['year'] <= 1969) & (data_df['year']>= 1960)]\n",
    "seventy_df = data_df[(data_df['year'] <= 1979) & (data_df['year']>= 1970)]\n",
    "eighty_df = data_df[(data_df['year'] <= 1989) & (data_df['year']>= 1980)]\n",
    "ninety_df = data_df[(data_df['year'] <= 1999) & (data_df['year']>= 1990)]\n",
    "twenty_df = data_df[(data_df['year'] <= 2009) & (data_df['year']>= 2000)]\n",
    "twentyone_df = data_df[(data_df['year'] <= 2019) & (data_df['year']>= 2010)]"
   ]
  },
  {
   "cell_type": "code",
   "execution_count": 6,
   "id": "9b71cc28",
   "metadata": {},
   "outputs": [],
   "source": [
    "# Calculate averages of tempo for each decade\n",
    "sixty_tempo = sixty_df['tempo'].mean()\n",
    "seventy_tempo = seventy_df['tempo'].mean()\n",
    "eighty_tempo = eighty_df['tempo'].mean()\n",
    "ninety_tempo = ninety_df['tempo'].mean()\n",
    "twenty_tempo = twenty_df['tempo'].mean()\n",
    "twentyone_tempo = twentyone_df['tempo'].mean()"
   ]
  },
  {
   "cell_type": "code",
   "execution_count": 7,
   "id": "5bf33f33",
   "metadata": {},
   "outputs": [],
   "source": [
    "# Calculate averages of duration for each decade\n",
    "sixty_duration = sixty_df['duration_ms'].mean()\n",
    "seventy_duration = seventy_df['duration_ms'].mean()\n",
    "eighty_duration = eighty_df['duration_ms'].mean()\n",
    "ninety_duration = ninety_df['duration_ms'].mean()\n",
    "twenty_duration = twenty_df['duration_ms'].mean()\n",
    "twentyone_duration = twentyone_df['duration_ms'].mean()"
   ]
  },
  {
   "cell_type": "code",
   "execution_count": 8,
   "id": "72afa50b",
   "metadata": {},
   "outputs": [],
   "source": [
    "# Calculate averages of loudness for each decade\n",
    "sixty_loudness = sixty_df['loudness'].mean()\n",
    "seventy_loudness = seventy_df['loudness'].mean()\n",
    "eighty_loudness = eighty_df['loudness'].mean()\n",
    "ninety_loudness = ninety_df['loudness'].mean()\n",
    "twenty_loudness = twenty_df['loudness'].mean()\n",
    "twentyone_loudness = twentyone_df['loudness'].mean()"
   ]
  },
  {
   "cell_type": "code",
   "execution_count": 9,
   "id": "6f5dddb7",
   "metadata": {},
   "outputs": [],
   "source": [
    "# # Calculate averages of danceability for each decade\n",
    "sixty_danceability = sixty_df['danceability'].mean()\n",
    "seventy_danceability = seventy_df['danceability'].mean()\n",
    "eighty_danceability = eighty_df['danceability'].mean()\n",
    "ninety_danceability = ninety_df['danceability'].mean()\n",
    "twenty_danceability = twenty_df['danceability'].mean()\n",
    "twentyone_danceability = twentyone_df['danceability'].mean()"
   ]
  },
  {
   "cell_type": "code",
   "execution_count": 10,
   "id": "27c1d9f3",
   "metadata": {},
   "outputs": [],
   "source": [
    "# Calculate averages of energy for each decade\n",
    "sixty_energy = sixty_df['energy'].mean()\n",
    "seventy_energy = seventy_df['energy'].mean()\n",
    "eighty_energy = eighty_df['energy'].mean()\n",
    "ninety_energy = ninety_df['energy'].mean()\n",
    "twenty_energy = twenty_df['energy'].mean()\n",
    "twentyone_energy = twentyone_df['energy'].mean()"
   ]
  },
  {
   "cell_type": "code",
   "execution_count": 11,
   "id": "e0cdcc29",
   "metadata": {},
   "outputs": [],
   "source": [
    "# Calculate averages of explicitness for each decade\n",
    "sixty_explicit = sixty_df['explicit'].mean()\n",
    "seventy_explicit = seventy_df['explicit'].mean()\n",
    "eighty_explicit = eighty_df['explicit'].mean()\n",
    "ninety_explicit = ninety_df['explicit'].mean()\n",
    "twenty_explicit = twenty_df['explicit'].mean()\n",
    "twentyone_explicit = twentyone_df['explicit'].mean()"
   ]
  },
  {
   "cell_type": "code",
   "execution_count": 12,
   "id": "8d37f13b",
   "metadata": {},
   "outputs": [],
   "source": [
    "# Calculate averages of popularity for each decade\n",
    "sixty_popularity = sixty_df['popularity'].mean()\n",
    "seventy_popularity = seventy_df['popularity'].mean()\n",
    "eighty_popularity = eighty_df['popularity'].mean()\n",
    "ninety_popularity = ninety_df['popularity'].mean()\n",
    "twenty_popularity = twenty_df['popularity'].mean()\n",
    "twentyone_popularity = twentyone_df['popularity'].mean()"
   ]
  },
  {
   "cell_type": "code",
   "execution_count": 13,
   "id": "032a5627",
   "metadata": {},
   "outputs": [],
   "source": [
    "# Calculate averages of acousticness for each decade\n",
    "sixty_acousticness = sixty_df['acousticness'].mean()\n",
    "seventy_acousticness = seventy_df['acousticness'].mean()\n",
    "eighty_acousticness = eighty_df['acousticness'].mean()\n",
    "ninety_acousticness = ninety_df['acousticness'].mean()\n",
    "twenty_acousticness = twenty_df['acousticness'].mean()\n",
    "twentyone_acousticness = twentyone_df['acousticness'].mean()"
   ]
  },
  {
   "cell_type": "code",
   "execution_count": 14,
   "id": "524ecb27",
   "metadata": {},
   "outputs": [
    {
     "data": {
      "image/png": "[encoded data removed]",
      "text/plain": [
       "<Figure size 576x360 with 1 Axes>"
      ]
     },
     "metadata": {
      "needs_background": "light"
     },
     "output_type": "display_data"
    }
   ],
   "source": [
    "# Graph of tempo trend (average from each decade plotted)\n",
    "plt.figure(figsize=(8, 5))\n",
    "x_axis =['1960-1969', '1970-1979', '1980-1989', '1990-1999', '2000-2009', '2010-2019']\n",
    "y_axis =[sixty_tempo, seventy_tempo, eighty_tempo, ninety_tempo, twenty_tempo, twentyone_tempo]\n",
    "plt.bar(x_axis, y_axis)\n",
    "plt.xlabel('Decade')\n",
    "plt.ylabel('Tempo')\n",
    "plt.title('Tempo In Music Trend 1960-2019')\n",
    "plt.show()"
   ]
  },
  {
   "cell_type": "code",
   "execution_count": 15,
   "id": "47fd0432",
   "metadata": {},
   "outputs": [
    {
     "data": {
      "image/png": "[encoded data removed]",
      "text/plain": [
       "<Figure size 576x360 with 1 Axes>"
      ]
     },
     "metadata": {
      "needs_background": "light"
     },
     "output_type": "display_data"
    }
   ],
   "source": [
    "# Graph of duration trend (average from each decade plotted)\n",
    "plt.figure(figsize=(8, 5))\n",
    "x_axis =['1960-1969', '1970-1979', '1980-1989', '1990-1999', '2000-2009', '2010-2019']\n",
    "y_axis =[sixty_duration, seventy_duration, eighty_duration, ninety_duration, twenty_duration, twentyone_duration]\n",
    "plt.bar(x_axis, y_axis)\n",
    "plt.xlabel('Decade')\n",
    "plt.ylabel('Duration (Milliseconds)')\n",
    "plt.title('Duration of Music Trend 1960-2019')\n",
    "plt.show()"
   ]
  },
  {
   "cell_type": "code",
   "execution_count": 16,
   "id": "812c2e78",
   "metadata": {},
   "outputs": [
    {
     "data": {
      "image/png": "[encoded data removed]",
      "text/plain": [
       "<Figure size 576x360 with 1 Axes>"
      ]
     },
     "metadata": {
      "needs_background": "light"
     },
     "output_type": "display_data"
    }
   ],
   "source": [
    "# Graph of loudness trend (average from each decade plotted)\n",
    "plt.figure(figsize=(8, 5))\n",
    "x_axis =['1960-1969', '1970-1979', '1980-1989', '1990-1999', '2000-2009', '2010-2019']\n",
    "y_axis =[sixty_loudness, seventy_loudness, eighty_loudness, ninety_loudness, twenty_loudness, twentyone_loudness]\n",
    "plt.bar(x_axis, y_axis)\n",
    "plt.xlabel('Decade')\n",
    "plt.ylabel('Loudness')\n",
    "plt.title('Loudness In Music Trend 1960-2019')\n",
    "plt.show()"
   ]
  },
  {
   "cell_type": "code",
   "execution_count": 17,
   "id": "af284895",
   "metadata": {},
   "outputs": [
    {
     "data": {
      "image/png": "[encoded data removed]",
      "text/plain": [
       "<Figure size 576x360 with 1 Axes>"
      ]
     },
     "metadata": {
      "needs_background": "light"
     },
     "output_type": "display_data"
    }
   ],
   "source": [
    "# Graph of danceability trend (average from each decade plotted)\n",
    "plt.figure(figsize=(8, 5))\n",
    "x_axis =['1960-1969', '1970-1979', '1980-1989', '1990-1999', '2000-2009', '2010-2019']\n",
    "y_axis =[sixty_danceability, seventy_danceability, eighty_danceability, ninety_danceability, twenty_danceability, twentyone_danceability]\n",
    "plt.bar(x_axis, y_axis)\n",
    "plt.xlabel('Decade')\n",
    "plt.ylabel('Danceability')\n",
    "plt.title('Danceability In Music Trend 1960-2019')\n",
    "plt.show()"
   ]
  },
  {
   "cell_type": "code",
   "execution_count": 18,
   "id": "7ec40b56",
   "metadata": {},
   "outputs": [
    {
     "data": {
      "image/png": "[encoded data removed]",
      "text/plain": [
       "<Figure size 576x360 with 1 Axes>"
      ]
     },
     "metadata": {
      "needs_background": "light"
     },
     "output_type": "display_data"
    }
   ],
   "source": [
    "# Graph of energy trend (average from each decade plotted)\n",
    "plt.figure(figsize=(8, 5))\n",
    "x_axis =['1960-1969', '1970-1979', '1980-1989', '1990-1999', '2000-2009', '2010-2019']\n",
    "y_axis =[sixty_energy, seventy_energy, eighty_energy, ninety_energy, twenty_energy, twentyone_energy]\n",
    "plt.bar(x_axis, y_axis)\n",
    "plt.xlabel('Decade')\n",
    "plt.ylabel('Energy')\n",
    "plt.title('Energy In Music Trend 1960-2019')\n",
    "plt.show()"
   ]
  },
  {
   "cell_type": "code",
   "execution_count": 19,
   "id": "974389ec",
   "metadata": {},
   "outputs": [
    {
     "data": {
      "image/png": "[encoded data removed]",
      "text/plain": [
       "<Figure size 576x360 with 1 Axes>"
      ]
     },
     "metadata": {
      "needs_background": "light"
     },
     "output_type": "display_data"
    }
   ],
   "source": [
    "# Graph of explicitness trend (average from each decade plotted)\n",
    "plt.figure(figsize=(8, 5))\n",
    "x_axis =['1960-1969', '1970-1979', '1980-1989', '1990-1999', '2000-2009', '2010-2019']\n",
    "y_axis =[sixty_explicit, seventy_explicit, eighty_explicit, ninety_explicit, twenty_explicit, twentyone_explicit]\n",
    "plt.bar(x_axis, y_axis)\n",
    "plt.xlabel('Decade')\n",
    "plt.ylabel('Percentage of Explicit Songs')\n",
    "plt.title('Explicitness In Music Trend 1960-2019')\n",
    "plt.show()"
   ]
  },
  {
   "cell_type": "code",
   "execution_count": 20,
   "id": "32509765",
   "metadata": {},
   "outputs": [
    {
     "data": {
      "image/png": "[encoded data removed]",
      "text/plain": [
       "<Figure size 576x360 with 1 Axes>"
      ]
     },
     "metadata": {
      "needs_background": "light"
     },
     "output_type": "display_data"
    }
   ],
   "source": [
    "# Graph of popularity (average from each decade plotted)\n",
    "plt.figure(figsize=(8, 5))\n",
    "x_axis =['1960-1969', '1970-1979', '1980-1989', '1990-1999', '2000-2009', '2010-2019']\n",
    "y_axis =[sixty_popularity, seventy_popularity, eighty_popularity, ninety_popularity, twenty_popularity, twentyone_popularity]\n",
    "plt.bar(x_axis, y_axis)\n",
    "plt.xlabel('Decade')\n",
    "plt.ylabel('Popularity')\n",
    "plt.title('Popularity In Music By Decade From 1960-2019')\n",
    "plt.show()"
   ]
  },
  {
   "cell_type": "code",
   "execution_count": 21,
   "id": "13eff043",
   "metadata": {},
   "outputs": [
    {
     "data": {
      "image/png": "[encoded data removed]",
      "text/plain": [
       "<Figure size 576x360 with 1 Axes>"
      ]
     },
     "metadata": {
      "needs_background": "light"
     },
     "output_type": "display_data"
    }
   ],
   "source": [
    "# Graph of acousticness trend (average from each decade plotted)\n",
    "plt.figure(figsize=(8, 5))\n",
    "x_axis =['1960-1969', '1970-1979', '1980-1989', '1990-1999', '2000-2009', '2010-2019']\n",
    "y_axis =[sixty_acousticness, seventy_acousticness, eighty_acousticness, ninety_acousticness, twenty_acousticness, twentyone_acousticness]\n",
    "plt.bar(x_axis, y_axis)\n",
    "plt.xlabel('Decade')\n",
    "plt.ylabel('Acousticness')\n",
    "plt.title('Acousticness In Music Trend 1960-2019')\n",
    "plt.show()"
   ]
  }
 ],
 "metadata": {
  "kernelspec": {
   "display_name": "Python 3 (ipykernel)",
   "language": "python",
   "name": "python3"
  },
  "language_info": {
   "codemirror_mode": {
    "name": "ipython",
    "version": 3
   },
   "file_extension": ".py",
   "mimetype": "text/x-python",
   "name": "python",
   "nbconvert_exporter": "python",
   "pygments_lexer": "ipython3",
   "version": "3.9.7"
  }
 },
 "nbformat": 4,
 "nbformat_minor": 5
}
